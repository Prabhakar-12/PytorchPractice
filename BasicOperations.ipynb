{
 "cells": [
  {
   "cell_type": "code",
   "id": "initial_id",
   "metadata": {
    "collapsed": true
   },
   "source": [
    "import torch\n",
    "print(torch.__version__)"
   ],
   "outputs": [],
   "execution_count": null
  },
  {
   "metadata": {},
   "cell_type": "code",
   "source": [
    "#Scalar\n",
    "Scalar=torch.tensor(2)\n",
    "print(\"The Scalar Value is \",Scalar)\n",
    "print(\"The Dimensional of the Scalar is \",Scalar.ndim)\n",
    "print(\"The Shape of the Scalar is \",Scalar.shape)\n",
    "print(\"The Printing the scalar value is \",Scalar.item())\n",
    "#Vector: It is Mathematical and Physical entity that possesses (which have or own )both magnitube(size or length) and Direction\n",
    "Vector=torch.tensor([1,2,3,4])\n",
    "print(\"The Vector is \",Vector)\n",
    "print(\"The Shape of the Vector is\" ,Vector.shape)\n",
    "print(\"The Dimensional fo the Vector is \",Vector.shape)\n",
    "print(\"The Size of the Vector is \",Vector.size)\n",
    "#Matrix:The Rectangular Arrnagement of the elements is Called Matrix.\n",
    "Matrix=torch.tensor([[1,2,3],\n",
    "                     [4,5,6],\n",
    "                     [7,8,9]])\n",
    "print(\"The Matrix is \",Matrix)\n",
    "print(\"The Shape of the Matrix is \",Matrix.shape)\n",
    "print(\"The Dimensional of the Matrix is \",Matrix.ndim)\n",
    "#Tensor:Tensor can be Defined as combining the several matrixes or Multidimensional array is Called Tensor\n",
    "Tensor=torch.tensor([[[1,2],\n",
    "                      [3,4]],\n",
    "                      [[5,6],\n",
    "                       [7,8]],\n",
    "                      [[8,9],\n",
    "                       [10,11]]])\n",
    "print(\"The Tensor is \",Tensor)\n",
    "print(\"The Shape of the Tensor is \",Tensor.shape)\n",
    "print(\"The Dimensional of the Tensor is \",Tensor.ndim)\n",
    "print(\"The length of the Tensor is \",len(Tensor))"
   ],
   "id": "19f1af99052e29c3",
   "outputs": [],
   "execution_count": null
  },
  {
   "metadata": {},
   "cell_type": "markdown",
   "source": "Random Tensors",
   "id": "fed00166e55abde5"
  },
  {
   "metadata": {},
   "cell_type": "code",
   "source": [
    "#Creating the Random Tensor\n",
    "random_tensor=torch.rand(size=(3,4),dtype=torch.float64)\n",
    "print(\"The Random Tensor is \",random_tensor)\n",
    "print(\"The Data type of the Tensor is \",random_tensor.dtype)\n"
   ],
   "id": "fbd067c580301330",
   "outputs": [],
   "execution_count": null
  },
  {
   "metadata": {},
   "cell_type": "markdown",
   "source": "Zeros and Ones",
   "id": "a176e5415b78c830"
  },
  {
   "metadata": {},
   "cell_type": "code",
   "source": [
    "#Creating the Zeros Tensor\n",
    "Zeros=torch.zeros(size=(3,4))\n",
    "print(Zeros,Zeros.dtype,Zeros.ndim,Zeros.shape)\n",
    "#Creating the ones Tensor\n",
    "Ones=torch.ones(size=(4,3,4))\n",
    "print(Ones)\n",
    "print(\"The Shape of the Tensor is \",Ones.shape)\n",
    "print(\"The Dimensional fo the Array\",Ones.ndim)"
   ],
   "id": "59e59762e9c91097",
   "outputs": [],
   "execution_count": null
  },
  {
   "metadata": {},
   "cell_type": "markdown",
   "source": " Creating the Range and Tensor",
   "id": "7eca7fcd1d260072"
  },
  {
   "metadata": {},
   "cell_type": "code",
   "source": [
    "Zeros_to_ten_deprecatedd=torch.arange(0,10)\n",
    "print(Zeros_to_ten_deprecatedd)\n",
    "#Creating Tensor of the Zeros And The input should be Tensor only\n",
    "ten_Zeros=torch.zeros_like(input=Zeros_to_ten_deprecatedd)\n",
    "print(ten_Zeros)"
   ],
   "id": "de30986d7d89b3aa",
   "outputs": [],
   "execution_count": null
  },
  {
   "metadata": {},
   "cell_type": "markdown",
   "source": "Tensor Datatypes",
   "id": "a6696636819ad352"
  },
  {
   "metadata": {
    "ExecuteTime": {
     "end_time": "2025-09-28T04:39:14.202741Z",
     "start_time": "2025-09-28T04:39:14.187460Z"
    }
   },
   "cell_type": "code",
   "source": [
    "#Note:Default Datatype of the Tensor is float32\n",
    "float_32_Tensor=torch.tensor([3.0,6.0,9.0],\n",
    "                             dtype=None,\n",
    "                             device=None,\n",
    "                             requires_grad=False)\n",
    "print(\"The Tensor type float is\",float_32_Tensor)\n",
    "print(\"The Datatype of Tensor is \",float_32_Tensor.dtype)\n",
    "print(\"The shape of the Tensor is \",float_32_Tensor.shape)\n",
    "print(\"The Device which we used to run the torch is \",float_32_Tensor.device)"
   ],
   "id": "aaa0b51fa020ae2a",
   "outputs": [
    {
     "name": "stdout",
     "output_type": "stream",
     "text": [
      "The Tensor type float is tensor([3., 6., 9.])\n",
      "The Datatype of Tensor is  torch.float32\n",
      "The shape of the Tensor is  torch.Size([3])\n",
      "The Device which we used to run the torch is  cpu\n"
     ]
    }
   ],
   "execution_count": 56
  },
  {
   "metadata": {
    "ExecuteTime": {
     "end_time": "2025-09-28T04:42:42.725466Z",
     "start_time": "2025-09-28T04:42:42.711924Z"
    }
   },
   "cell_type": "code",
   "source": [
    "#we can change the datatype of the Tensor\n",
    "Tensor1=torch.tensor([1,2,3,4])\n",
    "Tensor2=torch.tensor([1,2,3,4],dtype=torch.float16)\n",
    "Tensor3=torch.tensor([1,2,3,4],dtype=torch.int64)\n",
    "Tensor4=torch.tensor([1,2,3,4],dtype=torch.int16)\n",
    "print(Tensor.dtype)\n",
    "print(Tensor2.dtype)\n",
    "print(Tensor3.dtype)\n",
    "print(Tensor4.dtype)"
   ],
   "id": "b497bd68b2bd2fdc",
   "outputs": [
    {
     "name": "stdout",
     "output_type": "stream",
     "text": [
      "torch.float32\n",
      "torch.float16\n",
      "torch.int64\n",
      "torch.int16\n"
     ]
    }
   ],
   "execution_count": 65
  },
  {
   "metadata": {},
   "cell_type": "markdown",
   "source": "Getting Information from Tensors",
   "id": "2025f7924116d074"
  },
  {
   "metadata": {
    "ExecuteTime": {
     "end_time": "2025-09-28T04:45:54.186586Z",
     "start_time": "2025-09-28T04:45:54.174585Z"
    }
   },
   "cell_type": "code",
   "source": [
    "some_Tensor=torch.rand(size=(4,5))\n",
    "print(some_Tensor)\n",
    "print(f'shape of the Tensor is {some_Tensor.shape}')\n",
    "print(f'Datatype of the Tensor is {some_Tensor.dtype}')\n",
    "print(f'The Device Tensor is Stored on {some_Tensor.device}')"
   ],
   "id": "25a1b43e1a2081b2",
   "outputs": [
    {
     "name": "stdout",
     "output_type": "stream",
     "text": [
      "tensor([[0.5377, 0.9838, 0.6269, 0.4425, 0.5443],\n",
      "        [0.2310, 0.7005, 0.3856, 0.1307, 0.7711],\n",
      "        [0.8288, 0.5850, 0.9130, 0.7280, 0.5187],\n",
      "        [0.8130, 0.9406, 0.7477, 0.4469, 0.7008]])\n",
      "shape of the Tensor is torch.Size([4, 5])\n",
      "Datatype of the Tensor is torch.float32\n",
      "The Device Tensor is Stored on cpu\n"
     ]
    }
   ],
   "execution_count": 67
  }
 ],
 "metadata": {
  "kernelspec": {
   "display_name": "Python 3",
   "language": "python",
   "name": "python3"
  },
  "language_info": {
   "codemirror_mode": {
    "name": "ipython",
    "version": 2
   },
   "file_extension": ".py",
   "mimetype": "text/x-python",
   "name": "python",
   "nbconvert_exporter": "python",
   "pygments_lexer": "ipython2",
   "version": "2.7.6"
  }
 },
 "nbformat": 4,
 "nbformat_minor": 5
}
