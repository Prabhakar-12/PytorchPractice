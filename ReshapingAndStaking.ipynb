{
 "cells": [
  {
   "metadata": {},
   "cell_type": "markdown",
   "source": "Reshaping ,Staking,Squeezing and unsqueezing",
   "id": "b2f3ca4b0c36f49a"
  },
  {
   "cell_type": "code",
   "id": "initial_id",
   "metadata": {
    "collapsed": true
   },
   "source": [
    "#Create the Tensor\n",
    "import torch\n",
    "x=torch.arange(1,9)\n",
    "print(\"The Tensor is \",x)\n",
    "print(\"The Shape of the Tensor is \",x.shape)"
   ],
   "outputs": [],
   "execution_count": null
  },
  {
   "metadata": {},
   "cell_type": "markdown",
   "source": "",
   "id": "1a7ab9a589ce1bed"
  },
  {
   "metadata": {},
   "cell_type": "code",
   "source": [
    "#Adding the Extra dimensions\n",
    "x_Reshaped=x.reshape(1,8)\n",
    "print(\"The Reshaped Tensor is \",x_Reshaped)\n",
    "print(\"The Size of the Tensor is \",x_Reshaped.shape)"
   ],
   "id": "3fdfec801595b97d",
   "outputs": [],
   "execution_count": null
  },
  {
   "metadata": {},
   "cell_type": "code",
   "source": [
    "#We can also change the view() with torch.view()\n",
    "print(\"The Original Tensor is \",x_Reshaped)\n",
    "z=x_Reshaped.view(4,2)\n",
    "print(\"The Tensor after appling the view to the Original Tensor\",z)\n",
    "print(\"The Shape of the Updated Tensor using view() is \",z.shape)\n",
    "z[0,0]=100\n",
    "z.add_(3)\n",
    "print(z)\n",
    "print(x_Reshaped)"
   ],
   "id": "426bf00ee4a2245f",
   "outputs": [],
   "execution_count": null
  },
  {
   "metadata": {},
   "cell_type": "code",
   "source": [
    "#Stack Tensor on top of each Tensor\n",
    "T=torch.arange(1,8)\n",
    "x_stacked=torch.stack([T,T,T,T],dim=0)\n",
    "print(x_stacked)"
   ],
   "id": "cf2225285eb774e3",
   "outputs": [],
   "execution_count": null
  },
  {
   "metadata": {},
   "cell_type": "markdown",
   "source": "Squeezing in Tensors",
   "id": "730d7a1829a61b00"
  },
  {
   "metadata": {
    "ExecuteTime": {
     "end_time": "2025-09-28T14:52:14.288433Z",
     "start_time": "2025-09-28T14:52:14.270009Z"
    }
   },
   "cell_type": "code",
   "source": [
    "#Removing the Dimensions From the Tensors\n",
    "#Note:Squeezing or Compress similar meaning\n",
    "print(f\"Previous Tensor is {x_Reshaped}\")\n",
    "print(f\"The Shape of the Tenosr is {x_Reshaped.shape}\")\n",
    "#Removing the Extra Dimensions from the Tensors\n",
    "x_Squeezing=x_Reshaped.squeeze()\n",
    "print(f\"New Tensor after squeezing is {x_Squeezing}\")\n",
    "print(f\"Shape of the New Tensor is {x_Squeezing.shape}\")"
   ],
   "id": "152dcbae1fca2668",
   "outputs": [
    {
     "name": "stdout",
     "output_type": "stream",
     "text": [
      "Previous Tensor is tensor([[103,   5,   6,   7,   8,   9,  10,  11]])\n",
      "The Shape of the Tenosr is torch.Size([1, 8])\n",
      "New Tensor after squeezing is tensor([103,   5,   6,   7,   8,   9,  10,  11])\n",
      "Shape of the New Tensor is torch.Size([8])\n"
     ]
    }
   ],
   "execution_count": 40
  },
  {
   "metadata": {},
   "cell_type": "markdown",
   "source": "Reversed Squeezing",
   "id": "e58e15e8b22d3be1"
  },
  {
   "metadata": {
    "ExecuteTime": {
     "end_time": "2025-09-28T14:55:24.924325Z",
     "start_time": "2025-09-28T14:55:24.909584Z"
    }
   },
   "cell_type": "code",
   "source": [
    "#Adding the Dimensions to the Tensors\n",
    "print(f\"Previous Tensor is {x_Squeezing}\")\n",
    "print(f\"Shape of the Tensor is {x_Squeezing}\")\n",
    "#Adding the Extra Dimension with unsqueeze()\n",
    "x_unsqueezing=x_Squeezing.unsqueeze(dim=0)\n",
    "print(f\"New Tensor is {x_unsqueezing}\")\n",
    "print(f\"NEw Shape is {x_unsqueezing.shape}\")"
   ],
   "id": "bfbbdc1cc1a69b98",
   "outputs": [
    {
     "name": "stdout",
     "output_type": "stream",
     "text": [
      "Previous Tensor is tensor([103,   5,   6,   7,   8,   9,  10,  11])\n",
      "Shape of the Tensor is tensor([103,   5,   6,   7,   8,   9,  10,  11])\n",
      "New Tensor is tensor([[103,   5,   6,   7,   8,   9,  10,  11]])\n",
      "NEw Shape is torch.Size([1, 8])\n"
     ]
    }
   ],
   "execution_count": 41
  },
  {
   "metadata": {},
   "cell_type": "markdown",
   "source": "Rearrange Order of Axis",
   "id": "b474cc1df2e16de0"
  },
  {
   "metadata": {
    "ExecuteTime": {
     "end_time": "2025-09-28T15:05:00.471834Z",
     "start_time": "2025-09-28T15:05:00.455525Z"
    }
   },
   "cell_type": "code",
   "source": [
    "#Create Tensor with Specific Shape\n",
    "x_original=torch.rand(size=(224,224,3))\n",
    "#permute the original Tensor to Rearrange  the axis order\n",
    "#The Range between -3 to 2 often Values rae -2,-1,0,1,2 only\n",
    "x_permuted=x_original.permute(2,0,1)\n",
    "print(f\"Previous shape is {x_original.shape}\")\n",
    "print(f\"New Shape is {x_permuted.shape}\")\n"
   ],
   "id": "8f65f72d976bf068",
   "outputs": [
    {
     "name": "stdout",
     "output_type": "stream",
     "text": [
      "Previous shape is torch.Size([224, 224, 3])\n",
      "New Shape is torch.Size([3, 224, 224])\n"
     ]
    }
   ],
   "execution_count": 67
  },
  {
   "metadata": {},
   "cell_type": "markdown",
   "source": "Indexing:Selecting the Data from Tensors",
   "id": "94936c84c40918bc"
  },
  {
   "metadata": {
    "ExecuteTime": {
     "end_time": "2025-09-28T15:08:07.775202Z",
     "start_time": "2025-09-28T15:08:07.755240Z"
    }
   },
   "cell_type": "code",
   "source": [
    "#Create the Tensor\n",
    "import torch\n",
    "x=torch.arange(1,10).reshape(1,3,3)\n",
    "print(x)\n",
    "#Retriving the First of the Matrix\n",
    "print(x[0])\n",
    "#Retriving the First Matrix First Row\n",
    "print(x[0][0])\n",
    "#Retriving the First Matrix First Row And First Element\n",
    "print(x[0][0][0])"
   ],
   "id": "ea13360ae4d14de9",
   "outputs": [
    {
     "name": "stdout",
     "output_type": "stream",
     "text": [
      "tensor([[[1, 2, 3],\n",
      "         [4, 5, 6],\n",
      "         [7, 8, 9]]])\n",
      "tensor([[1, 2, 3],\n",
      "        [4, 5, 6],\n",
      "        [7, 8, 9]])\n",
      "tensor([1, 2, 3])\n",
      "tensor(1)\n"
     ]
    }
   ],
   "execution_count": 74
  },
  {
   "metadata": {
    "ExecuteTime": {
     "end_time": "2025-09-28T15:22:08.881802Z",
     "start_time": "2025-09-28T15:22:08.854392Z"
    }
   },
   "cell_type": "code",
   "source": [
    "#We can also Retrive the Elements by using slicing method\n",
    "#Asscesing the all rows and Columns of the Tensor\n",
    "print(x[:])\n",
    "#Asscesing the all columns of the First Row\n",
    "print(x[0,:])\n",
    "#Asscesing the specific element from the First Row of the Matrix\n",
    "print(x[:,0,0])\n",
    "print(x[0,1:,0])"
   ],
   "id": "40a86a263103ebb8",
   "outputs": [
    {
     "name": "stdout",
     "output_type": "stream",
     "text": [
      "tensor([[[1, 2, 3],\n",
      "         [4, 5, 6],\n",
      "         [7, 8, 9]]])\n",
      "tensor([[1, 2, 3],\n",
      "        [4, 5, 6],\n",
      "        [7, 8, 9]])\n",
      "tensor([1])\n",
      "tensor([4, 7])\n"
     ]
    }
   ],
   "execution_count": 85
  }
 ],
 "metadata": {
  "kernelspec": {
   "display_name": "Python 3",
   "language": "python",
   "name": "python3"
  },
  "language_info": {
   "codemirror_mode": {
    "name": "ipython",
    "version": 2
   },
   "file_extension": ".py",
   "mimetype": "text/x-python",
   "name": "python",
   "nbconvert_exporter": "python",
   "pygments_lexer": "ipython2",
   "version": "2.7.6"
  }
 },
 "nbformat": 4,
 "nbformat_minor": 5
}
