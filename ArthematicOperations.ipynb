{
 "cells": [
  {
   "cell_type": "code",
   "id": "initial_id",
   "metadata": {
    "collapsed": true,
    "ExecuteTime": {
     "end_time": "2025-09-28T04:47:10.259703Z",
     "start_time": "2025-09-28T04:47:05.462073Z"
    }
   },
   "source": [
    "import torch\n",
    "print(torch.__version__)"
   ],
   "outputs": [
    {
     "name": "stdout",
     "output_type": "stream",
     "text": [
      "2.8.0+cpu\n"
     ]
    }
   ],
   "execution_count": 1
  },
  {
   "metadata": {
    "ExecuteTime": {
     "end_time": "2025-09-28T05:02:03.391330Z",
     "start_time": "2025-09-28T05:01:57.614545Z"
    }
   },
   "cell_type": "code",
   "source": [
    "import torch\n",
    "Tensor=torch.tensor([1,2,3,4])\n",
    "#Adding the 10 to all Elements present in the Tensor\n",
    "print(Tensor+10)\n",
    "print(Tensor.add(10))\n",
    "#Subtracting the 2 to all Elements present in the Tensor\n",
    "print(Tensor-2)\n",
    "print(Tensor.subtract(2))\n",
    "#Multiply  3 to all Elements present in the Tensor\n",
    "print(Tensor*3)\n",
    "print(Tensor.multiply(3))\n",
    "#Divide 2 to all Elements present in the Tensor\n",
    "print(Tensor/2)\n",
    "print(\"prabhakar\")"
   ],
   "id": "c6b4f55d0ea8ecec",
   "outputs": [
    {
     "name": "stdout",
     "output_type": "stream",
     "text": [
      "tensor([11, 12, 13, 14])\n",
      "tensor([11, 12, 13, 14])\n",
      "tensor([-1,  0,  1,  2])\n",
      "tensor([-1,  0,  1,  2])\n",
      "tensor([ 3,  6,  9, 12])\n",
      "tensor([ 3,  6,  9, 12])\n",
      "tensor([0.5000, 1.0000, 1.5000, 2.0000])\n",
      "prabhakar\n"
     ]
    }
   ],
   "execution_count": 1
  }
 ],
 "metadata": {
  "kernelspec": {
   "display_name": "Python 3",
   "language": "python",
   "name": "python3"
  },
  "language_info": {
   "codemirror_mode": {
    "name": "ipython",
    "version": 2
   },
   "file_extension": ".py",
   "mimetype": "text/x-python",
   "name": "python",
   "nbconvert_exporter": "python",
   "pygments_lexer": "ipython2",
   "version": "2.7.6"
  }
 },
 "nbformat": 4,
 "nbformat_minor": 5
}
