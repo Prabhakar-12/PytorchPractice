{
 "cells": [
  {
   "cell_type": "code",
   "id": "initial_id",
   "metadata": {
    "collapsed": true,
    "ExecuteTime": {
     "end_time": "2025-09-29T04:49:53.730636Z",
     "start_time": "2025-09-29T04:49:53.719036Z"
    }
   },
   "source": [
    "import torch\n",
    "print(torch.__version__)\n",
    "print(torch.__version__)"
   ],
   "outputs": [
    {
     "name": "stdout",
     "output_type": "stream",
     "text": [
      "2.8.0+cpu\n",
      "2.8.0+cpu\n"
     ]
    }
   ],
   "execution_count": 37
  },
  {
   "metadata": {
    "ExecuteTime": {
     "end_time": "2025-09-29T04:44:57.787888Z",
     "start_time": "2025-09-29T04:44:57.730597Z"
    }
   },
   "cell_type": "code",
   "source": [
    "import torch\n",
    "Tensor=torch.tensor([1,2,3,4])\n",
    "#Adding the 10 to all Elements present in the Tensor\n",
    "#Note:Adding the Values by using + operator it will not update the Original Tensor ,Just it will add the value to Every Element in the Vector\n",
    "print(Tensor+10)\n",
    "#Note:When Add The Element by using the add_() function it will add the Value to every Element present in the Tensor and Also Modify the Original Tensor.\n",
    "print(Tensor.add(10))\n",
    "#Subtracting the 2 to all Elements present in the Tensor\n",
    "print(Tensor-2)\n",
    "print(Tensor.subtract(2))\n",
    "#Multiply  3 to all Elements present in the Tensor\n",
    "print(Tensor*3)\n",
    "print(Tensor.multiply(3))\n",
    "#Divide 2 to all Elements present in the Tensor\n",
    "print(Tensor/2)\n"
   ],
   "id": "c6b4f55d0ea8ecec",
   "outputs": [
    {
     "name": "stdout",
     "output_type": "stream",
     "text": [
      "tensor([11, 12, 13, 14])\n",
      "tensor([11, 12, 13, 14])\n",
      "tensor([-1,  0,  1,  2])\n",
      "tensor([-1,  0,  1,  2])\n",
      "tensor([ 3,  6,  9, 12])\n",
      "tensor([ 3,  6,  9, 12])\n",
      "tensor([0.5000, 1.0000, 1.5000, 2.0000])\n"
     ]
    }
   ],
   "execution_count": 35
  },
  {
   "metadata": {
    "ExecuteTime": {
     "end_time": "2025-09-28T13:06:21.867566Z",
     "start_time": "2025-09-28T13:06:21.849329Z"
    }
   },
   "cell_type": "code",
   "source": [
    "#Elements wise Multiplications  and NOTE:Both should be Tensors only\n",
    "a=torch.tensor([1,2,3,4])\n",
    "#We can use any of these for getting the Product Matrix\n",
    "print(torch.mul(a,Tensor))\n",
    "print(a*Tensor)"
   ],
   "id": "3a8d57a685ca497a",
   "outputs": [
    {
     "name": "stdout",
     "output_type": "stream",
     "text": [
      "tensor([ 1,  4,  9, 16])\n",
      "tensor([ 1,  4,  9, 16])\n"
     ]
    }
   ],
   "execution_count": 3
  },
  {
   "metadata": {},
   "cell_type": "code",
   "outputs": [],
   "execution_count": null,
   "source": "",
   "id": "caedaa997e75b2c"
  }
 ],
 "metadata": {
  "kernelspec": {
   "display_name": "Python 3",
   "language": "python",
   "name": "python3"
  },
  "language_info": {
   "codemirror_mode": {
    "name": "ipython",
    "version": 2
   },
   "file_extension": ".py",
   "mimetype": "text/x-python",
   "name": "python",
   "nbconvert_exporter": "python",
   "pygments_lexer": "ipython2",
   "version": "2.7.6"
  }
 },
 "nbformat": 4,
 "nbformat_minor": 5
}
