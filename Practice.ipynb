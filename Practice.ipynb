{
 "cells": [
  {
   "metadata": {},
   "cell_type": "code",
   "source": [
    "import torch\n",
    "Zeros_Tensor=torch.zeros(size=(3,4,3))\n",
    "print(Zeros_Tensor)\n",
    "Ones_Tensor=torch.ones(size=(2,3,4))\n",
    "print(Ones_Tensor)"
   ],
   "id": "815db854b15b652f",
   "outputs": [],
   "execution_count": null
  },
  {
   "metadata": {},
   "cell_type": "code",
   "source": [
    "#printing the Random Tensors\n",
    "Random_Tensor=torch.rand(size=(2,3,2),dtype=torch.float64)\n",
    "print(Random_Tensor)\n",
    "print(\"The Datatype of the Random_Tensor is \",Random_Tensor.dtype)"
   ],
   "id": "30b074869092592",
   "outputs": [],
   "execution_count": null
  },
  {
   "metadata": {
    "ExecuteTime": {
     "end_time": "2025-10-11T07:26:08.591687Z",
     "start_time": "2025-10-11T07:26:08.559925Z"
    }
   },
   "cell_type": "code",
   "source": [
    "import torch\n",
    "print(torch.__version__)\n",
    "Tensor_Zeros=torch.zeros(size=(2,3,4))\n",
    "print(Tensor_Zeros)\n",
    "Tensor_Ones=torch.ones(size=(2,3,4))\n",
    "print(Tensor_Ones)\n",
    "Random_Tensor=torch.rand(size=(2,3,4))\n",
    "print(Random_Tensor)\n",
    "RandN_Tensor=torch.randn(size=(2,3,4))\n",
    "print(RandN_Tensor)"
   ],
   "id": "1322ff7cce68bfc5",
   "outputs": [
    {
     "name": "stdout",
     "output_type": "stream",
     "text": [
      "2.7.1a0\n",
      "tensor([[[0., 0., 0., 0.],\n",
      "         [0., 0., 0., 0.],\n",
      "         [0., 0., 0., 0.]],\n",
      "\n",
      "        [[0., 0., 0., 0.],\n",
      "         [0., 0., 0., 0.],\n",
      "         [0., 0., 0., 0.]]])\n",
      "tensor([[[1., 1., 1., 1.],\n",
      "         [1., 1., 1., 1.],\n",
      "         [1., 1., 1., 1.]],\n",
      "\n",
      "        [[1., 1., 1., 1.],\n",
      "         [1., 1., 1., 1.],\n",
      "         [1., 1., 1., 1.]]])\n",
      "tensor([[[0.2799, 0.5233, 0.1013, 0.9542],\n",
      "         [0.5749, 0.3433, 0.0052, 0.3223],\n",
      "         [0.2499, 0.7586, 0.4902, 0.7274]],\n",
      "\n",
      "        [[0.1198, 0.4160, 0.3858, 0.0987],\n",
      "         [0.4042, 0.8865, 0.3584, 0.6681],\n",
      "         [0.3397, 0.3092, 0.5541, 0.7760]]])\n",
      "tensor([[[-1.5441e-03, -2.8021e-01,  3.1292e-03,  3.5548e-01],\n",
      "         [ 1.1729e-01,  8.3904e-01, -4.7819e-01, -2.9893e-01],\n",
      "         [ 1.1059e+00,  8.1772e-01,  1.6100e+00,  1.1385e+00]],\n",
      "\n",
      "        [[-2.5858e-02, -2.9399e-01,  7.1569e-01, -1.1540e-01],\n",
      "         [-1.1030e-01, -8.3341e-01,  1.9747e+00, -6.1896e-01],\n",
      "         [ 4.1909e-01, -1.2606e+00,  2.0967e-01,  3.8488e-01]]])\n"
     ]
    }
   ],
   "execution_count": 18
  }
 ],
 "metadata": {
  "kernelspec": {
   "display_name": "Python 3",
   "language": "python",
   "name": "python3"
  },
  "language_info": {
   "codemirror_mode": {
    "name": "ipython",
    "version": 2
   },
   "file_extension": ".py",
   "mimetype": "text/x-python",
   "name": "python",
   "nbconvert_exporter": "python",
   "pygments_lexer": "ipython2",
   "version": "2.7.6"
  }
 },
 "nbformat": 4,
 "nbformat_minor": 5
}
