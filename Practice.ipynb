{
 "cells": [
  {
   "metadata": {},
   "cell_type": "code",
   "source": [
    "import torch\n",
    "import matplotlib.pyplot as plt\n",
    "from torch import nn\n",
    "start=0\n",
    "end=1\n",
    "step=0.02\n",
    "X=torch.arange(start,end,step).unsqueeze(dim=1)\n",
    "weights=0.7\n",
    "bias=0.3\n",
    "y=weights*X+bias\n",
    "#spliting the Data into Training And Testing\n",
    "split_data=int(0.8*len(X))\n",
    "X_Train,y_Train=X[:split_data],y[:split_data]\n",
    "X_Test,y_Test=X[split_data:],y[split_data:]\n",
    "def plot_prediction(Train_Data=X_Train,\n",
    "                    Train_Labels=y_Train,\n",
    "                    Test_Data=X_Test,\n",
    "                    Test_Labels=y_Test,\n",
    "                    prediction=None):\n",
    "    plt.figure(figsize=(10,7))\n",
    "    plt.scatter(Train_Data,Train_Labels,c=\"g\",s=20,label=\"Training Data\")\n",
    "    plt.scatter(Test_Data,Test_Labels,c=\"b\",s=20,label=\"Testing Data\")\n",
    "    if prediction is not None:\n",
    "        plt.scatter(Test_Data,prediction,c=\"r\",s=20,label=\"Prediction\")\n",
    "    plt.legend(prop={\"size\":18})\n",
    "    plt.show()\n",
    "plot_prediction()"
   ],
   "id": "bb42c514d017a7b2",
   "outputs": [],
   "execution_count": null
  },
  {
   "metadata": {},
   "cell_type": "code",
   "source": [
    "class LinearModel(nn.Module):\n",
    "    def __init__(self):\n",
    "        super().__init__()\n",
    "        self.weights=nn.Parameter(torch.randn(1,requires_grad=True,dtype=torch.float))\n",
    "        self.bias=nn.Parameter(torch.randn(1,\n",
    "         requires_grad=True,dtype=torch.float))\n",
    "    def forward(self,x:torch.Tensor)->torch.Tensor:\n",
    "        return self.weights*x+self.bias\n",
    "a=LinearModel()\n",
    "a.forward(X)"
   ],
   "id": "4407cdc394b4f879",
   "outputs": [],
   "execution_count": null
  },
  {
   "metadata": {},
   "cell_type": "code",
   "source": [
    "class LinearRegressionalModel(nn.Module):\n",
    "    def __init__(self):\n",
    "        super().__init__()\n",
    "        self.weights=nn.Parameter(torch.randn(1,requires_grad=True,dtype=torch.float))\n",
    "        self.bias=nn.Parameter(torch.randn(1,requires_grad=True,dtype=torch.float))\n",
    "    def forward(self,x:torch.Tensor)->torch.Tensor:\n",
    "        return self.weights*x+self.bias\n",
    "a=LinearRegressionalModel()\n",
    "a.forward(X)"
   ],
   "id": "cca5a2614eb2d4da",
   "outputs": [],
   "execution_count": null
  },
  {
   "metadata": {},
   "cell_type": "code",
   "source": [
    "torch.manual_seed(42)\n",
    "#creating the Instance of the Model\n",
    "model_0=LinearModel()\n",
    "list(model_0.parameters())"
   ],
   "id": "9b141539194a8829",
   "outputs": [],
   "execution_count": null
  },
  {
   "metadata": {},
   "cell_type": "code",
   "source": [
    "#list of the Named Parameters\n",
    "model_0.state_dict()"
   ],
   "id": "490549c795fb99fe",
   "outputs": [],
   "execution_count": null
  },
  {
   "metadata": {},
   "cell_type": "code",
   "source": "weights,bias",
   "id": "e7c0a6c6904e5e4b",
   "outputs": [],
   "execution_count": null
  },
  {
   "metadata": {},
   "cell_type": "code",
   "source": "X_Test,y_Test",
   "id": "7b4558c8ca96dc5a",
   "outputs": [],
   "execution_count": null
  },
  {
   "metadata": {},
   "cell_type": "code",
   "source": [
    "#Making Prediction using torch.inference_mode()\n",
    "#To check our model prediction power let's see how well our model predict y_test based x_test\n",
    "# with torch.inference_mode():\n",
    "#     y_preds=model_0(X_Test)\n",
    "with torch.no_grad():\n",
    "    y_preds=model_0(X_Test)\n",
    "y_preds"
   ],
   "id": "c33a747a5ed73aca",
   "outputs": [],
   "execution_count": null
  },
  {
   "metadata": {},
   "cell_type": "code",
   "source": "plot_prediction(prediction=y_preds)",
   "id": "ceced0a367e77da7",
   "outputs": [],
   "execution_count": null
  }
 ],
 "metadata": {
  "kernelspec": {
   "display_name": "Python 3",
   "language": "python",
   "name": "python3"
  },
  "language_info": {
   "codemirror_mode": {
    "name": "ipython",
    "version": 2
   },
   "file_extension": ".py",
   "mimetype": "text/x-python",
   "name": "python",
   "nbconvert_exporter": "python",
   "pygments_lexer": "ipython2",
   "version": "2.7.6"
  }
 },
 "nbformat": 4,
 "nbformat_minor": 5
}
