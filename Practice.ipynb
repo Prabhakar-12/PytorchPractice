{
 "cells": [
  {
   "metadata": {
    "ExecuteTime": {
     "end_time": "2025-10-10T11:43:55.733265Z",
     "start_time": "2025-10-10T11:43:48.346681Z"
    }
   },
   "cell_type": "code",
   "source": [
    "import torch\n",
    "import matplotlib.pyplot as plt\n",
    "from torch import nn\n",
    "weights=0.7\n",
    "bias=0.3\n",
    "start=0\n",
    "end=1\n",
    "step=0.02\n",
    "X=torch.arange(start,end,step).unsqueeze(dim=1)\n",
    "y=X*weights+bias\n",
    "#Splitnitg the Data into Training And Testing\n",
    "split_Data=int(0.8*len(X))\n"
   ],
   "id": "f1c5f5e615e03fa9",
   "outputs": [],
   "execution_count": 1
  }
 ],
 "metadata": {
  "kernelspec": {
   "display_name": "Python 3",
   "language": "python",
   "name": "python3"
  },
  "language_info": {
   "codemirror_mode": {
    "name": "ipython",
    "version": 2
   },
   "file_extension": ".py",
   "mimetype": "text/x-python",
   "name": "python",
   "nbconvert_exporter": "python",
   "pygments_lexer": "ipython2",
   "version": "2.7.6"
  }
 },
 "nbformat": 4,
 "nbformat_minor": 5
}
