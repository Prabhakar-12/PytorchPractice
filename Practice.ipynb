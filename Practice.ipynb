{
 "cells": [
  {
   "metadata": {},
   "cell_type": "code",
   "source": [
    "import torch\n",
    "Zeros_Tensor=torch.zeros(size=(3,4,3))\n",
    "print(Zeros_Tensor)\n",
    "Ones_Tensor=torch.ones(size=(2,3,4))\n",
    "print(Ones_Tensor)"
   ],
   "id": "815db854b15b652f",
   "outputs": [],
   "execution_count": null
  },
  {
   "metadata": {},
   "cell_type": "code",
   "source": [
    "#printing the Random Tensors\n",
    "Random_Tensor=torch.rand(size=(2,3,2),dtype=torch.float64)\n",
    "print(Random_Tensor)\n",
    "print(\"The Datatype of the Random_Tensor is \",Random_Tensor.dtype)"
   ],
   "id": "30b074869092592",
   "outputs": [],
   "execution_count": null
  },
  {
   "metadata": {},
   "cell_type": "code",
   "source": [
    "import torch\n",
    "print(torch.__version__)\n",
    "Tensor_Zeros=torch.zeros(size=(2,3,4))\n",
    "print(Tensor_Zeros)\n",
    "Tensor_Ones=torch.ones(size=(2,3,4))\n",
    "print(Tensor_Ones)\n",
    "Random_Tensor=torch.rand(size=(2,3,4))\n",
    "print(Random_Tensor)\n",
    "RandN_Tensor=torch.randn(size=(2,3,4))\n",
    "print(RandN_Tensor)"
   ],
   "id": "1322ff7cce68bfc5",
   "outputs": [],
   "execution_count": null
  },
  {
   "metadata": {
    "ExecuteTime": {
     "end_time": "2025-10-11T07:40:15.315267Z",
     "start_time": "2025-10-11T07:40:15.294121Z"
    }
   },
   "cell_type": "code",
   "source": [
    "#Tensors Aggregation function\n",
    "X=torch.arange(0,100,10)\n",
    "print(\"The Torch is \",X)\n",
    "print(\"The Maximum Element in the Tensor is \",torch.max(X))\n",
    "print(\"The Minimum Element in the Tensor is \",torch.min(X))\n",
    "print(\"The Sum of the Elements Present in the Tensor is \",torch.sum(X))\n"
   ],
   "id": "c36177b56c4b1589",
   "outputs": [
    {
     "name": "stdout",
     "output_type": "stream",
     "text": [
      "The Torch is  tensor([ 0, 10, 20, 30, 40, 50, 60, 70, 80, 90])\n",
      "The Maximum Element in the Tensor is  tensor(90)\n",
      "The Minimum Element in the Tensor is  tensor(0)\n",
      "The Sum of the Elements Present in the Tensor is  tensor(450)\n",
      "The mean of the Tensor elements are  tensor(45.)\n",
      "The mean of the Tensor Elements Are  tensor(45.)\n",
      "The mean of the Tensor Elements Are  tensor(45.)\n"
     ]
    }
   ],
   "execution_count": 43
  }
 ],
 "metadata": {
  "kernelspec": {
   "display_name": "Python 3",
   "language": "python",
   "name": "python3"
  },
  "language_info": {
   "codemirror_mode": {
    "name": "ipython",
    "version": 2
   },
   "file_extension": ".py",
   "mimetype": "text/x-python",
   "name": "python",
   "nbconvert_exporter": "python",
   "pygments_lexer": "ipython2",
   "version": "2.7.6"
  }
 },
 "nbformat": 4,
 "nbformat_minor": 5
}
