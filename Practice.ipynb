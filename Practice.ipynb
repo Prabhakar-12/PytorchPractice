{
 "cells": [
  {
   "metadata": {
    "ExecuteTime": {
     "end_time": "2025-10-10T18:09:53.448671Z",
     "start_time": "2025-10-10T18:09:47.314532Z"
    }
   },
   "cell_type": "code",
   "source": [
    "import torch\n",
    "print(torch.__version__)\n",
    "Scalar=torch.tensor(2)\n",
    "print(Scalar)\n",
    "print(Scalar.ndim)\n",
    "print(Scalar.shape)\n",
    "print(Scalar.size())\n",
    "#Vector:Can be defined as Mathematical and Physical entity that possesses both magnitude and Direction...\n",
    "Vector=torch.tensor([1,2,3,4],dtype=torch.float32)\n",
    "print(Vector)\n",
    "Vector=torch.tensor([2,4,6,8],dtype=torch.float64)\n",
    "print(Vector.dtype)\n",
    "print(Vector.ndim)\n",
    "print(Vector.shape)\n",
    "print(Vector.size())\n",
    "#Matrix:A Rectangular Arrangement of the Elements is Called Matrix\n",
    "Matrix=torch.tensor([[1,2,3],\n",
    "                     [4,5,6],\n",
    "                     [7,8,9]])\n",
    "print(Matrix.dtype)\n",
    "print(Matrix.shape)\n",
    "print(Matrix.size)\n",
    "print(Matrix)\n",
    "#Tensors:Tensors Can be defined As Combining the Several Matrix or MultiDimensional Array is Called Tensor\n",
    "Tensor=torch.tensor([[[1,2,7],\n",
    "                      [3,4,7]],\n",
    "                     [[5,6,6],\n",
    "                      [7,8,8]]])\n",
    "print(Tensor.size())\n",
    "print(Tensor.dim())"
   ],
   "id": "9c5a7e6fe34b902e",
   "outputs": [
    {
     "name": "stdout",
     "output_type": "stream",
     "text": [
      "2.7.1a0\n",
      "tensor(2)\n",
      "0\n",
      "torch.Size([])\n",
      "torch.Size([])\n",
      "tensor([1., 2., 3., 4.])\n",
      "torch.float64\n",
      "1\n",
      "torch.Size([4])\n",
      "torch.Size([4])\n",
      "torch.int64\n",
      "torch.Size([3, 3])\n",
      "<built-in method size of Tensor object at 0x7f61db43ea80>\n",
      "tensor([[1, 2, 3],\n",
      "        [4, 5, 6],\n",
      "        [7, 8, 9]])\n",
      "torch.Size([2, 2, 3])\n",
      "3\n"
     ]
    }
   ],
   "execution_count": 2
  },
  {
   "metadata": {
    "ExecuteTime": {
     "end_time": "2025-10-10T18:09:53.644219Z",
     "start_time": "2025-10-10T18:09:53.628628Z"
    }
   },
   "cell_type": "code",
   "source": [
    "#Creating the Random Tensors\n",
    "Random_Tensor=torch.rand(size=(2,3,2))\n",
    "print(Random_Tensor)"
   ],
   "id": "dbfae975e4e2ab06",
   "outputs": [
    {
     "name": "stdout",
     "output_type": "stream",
     "text": [
      "tensor([[[0.0638, 0.5745],\n",
      "         [0.0928, 0.7142],\n",
      "         [0.6174, 0.8919]],\n",
      "\n",
      "        [[0.1738, 0.8769],\n",
      "         [0.4458, 0.4884],\n",
      "         [0.1226, 0.0424]]])\n"
     ]
    }
   ],
   "execution_count": 3
  },
  {
   "metadata": {
    "ExecuteTime": {
     "end_time": "2025-10-10T18:12:44.622452Z",
     "start_time": "2025-10-10T18:12:44.610955Z"
    }
   },
   "cell_type": "code",
   "source": [
    "if torch.cuda.is_available():\n",
    "    device = torch.device(\"cuda\")\n",
    "    x = torch.ones(2, 2).to(device)\n",
    "    print(\"Tensor on GPU:\", x)\n",
    "else:\n",
    "    print(\"GPU not available, using CPU\")\n"
   ],
   "id": "fb0178c5bb35c852",
   "outputs": [
    {
     "name": "stdout",
     "output_type": "stream",
     "text": [
      "GPU not available, using CPU\n"
     ]
    }
   ],
   "execution_count": 10
  }
 ],
 "metadata": {
  "kernelspec": {
   "display_name": "Python 3",
   "language": "python",
   "name": "python3"
  },
  "language_info": {
   "codemirror_mode": {
    "name": "ipython",
    "version": 2
   },
   "file_extension": ".py",
   "mimetype": "text/x-python",
   "name": "python",
   "nbconvert_exporter": "python",
   "pygments_lexer": "ipython2",
   "version": "2.7.6"
  }
 },
 "nbformat": 4,
 "nbformat_minor": 5
}
