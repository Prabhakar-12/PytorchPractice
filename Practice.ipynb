{
 "cells": [
  {
   "metadata": {
    "ExecuteTime": {
     "end_time": "2025-10-11T02:50:03.830980Z",
     "start_time": "2025-10-11T02:50:03.803886Z"
    }
   },
   "cell_type": "code",
   "source": [
    "import torch\n",
    "print(torch.__version__)\n",
    "#Scalar:Scalar is single value\n",
    "Scalar=torch.tensor(3)\n",
    "print(\"The Scalar value of the Tensor is \",Scalar)\n",
    "print(\"The Datatype of the Scalar is \",Scalar.dtype)\n",
    "print(\"The Shape of the Scalar is \",Scalar.shape)\n",
    "print(\"The Size of the Scalar is \",Scalar.size())\n",
    "print(\"Printing the Scalar Value is \",Scalar.item())\n",
    "#Vector:Vector is mathematical and physical expression which possesese both magnitube and Direction\n",
    "Vector=torch.tensor([1,2,3,4])\n",
    "print(\"The Vector is \",Vector)\n",
    "print(\"The Shape of the Vector is \",Vector.shape)\n",
    "print(\"The size of the Vector is \",Vector.size())\n",
    "print(\"The Data type of the Vector is\",Vector.dtype)\n",
    "print(\"The Dimensions of the Vector is \",Vector.ndim)\n",
    "#Matrix:The Matrix can be Defined As Rectangular arrangement of the Elements is Called Matrix>>>>\n",
    "Matrix1=torch.tensor([[1,2,3],\n",
    "                     [4,5,6],\n",
    "                     [7,8,9]])\n",
    "print(\"The Matrix is \",Matrix1)\n",
    "print(\"The Shape of the Matrix is \",Matrix1.shape)\n",
    "print(\"The Data type of the Matrix is \",Matrix1.dtype)\n",
    "#Note:We can change the Elements datatype into float by putting the . at any place beside element\n",
    "Matrix2=torch.tensor([[1,3],\n",
    "                      [4,5.]])\n",
    "print(\"The Data type of the Matrix2 is \",Matrix2.dtype)\n",
    "print(\"The Dimensions of the Data type is \",Matrix2.ndim)\n",
    "print(\"The Shape of the Matrix is\",Matrix2.shape)"
   ],
   "id": "382d7fb794f3de0b",
   "outputs": [
    {
     "name": "stdout",
     "output_type": "stream",
     "text": [
      "2.7.1a0\n",
      "The Scalar value of the Tensor is  tensor(3)\n",
      "The Datatype of the Scalar is  torch.int64\n",
      "The Shape of the Scalar is  torch.Size([])\n",
      "The Size of the Scalar is  torch.Size([])\n",
      "Printing the Scalar Value is  3\n",
      "The Vector is  tensor([1, 2, 3, 4])\n",
      "The Shape of the Vector is  torch.Size([4])\n",
      "The size of the Vector is  torch.Size([4])\n",
      "The Data type of the Vector is torch.int64\n",
      "The Dimensions of the Vector is  1\n",
      "The Matrix is  tensor([[1, 2, 3],\n",
      "        [4, 5, 6],\n",
      "        [7, 8, 9]])\n",
      "The Shape of the Matrix is  torch.Size([3, 3])\n",
      "The Data type of the Matrix is  torch.int64\n",
      "The Data type of the Matrix2 is  torch.float32\n",
      "The Dimensions of the Data type is  2\n",
      "The Shape of the Matrix is torch.Size([2, 2])\n"
     ]
    }
   ],
   "execution_count": 20
  }
 ],
 "metadata": {
  "kernelspec": {
   "display_name": "Python 3",
   "language": "python",
   "name": "python3"
  },
  "language_info": {
   "codemirror_mode": {
    "name": "ipython",
    "version": 2
   },
   "file_extension": ".py",
   "mimetype": "text/x-python",
   "name": "python",
   "nbconvert_exporter": "python",
   "pygments_lexer": "ipython2",
   "version": "2.7.6"
  }
 },
 "nbformat": 4,
 "nbformat_minor": 5
}
