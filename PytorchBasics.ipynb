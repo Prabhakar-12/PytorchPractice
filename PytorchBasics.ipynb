{
 "cells": [
  {
   "cell_type": "code",
   "id": "initial_id",
   "metadata": {
    "collapsed": true,
    "ExecuteTime": {
     "end_time": "2025-10-06T10:17:01.050140Z",
     "start_time": "2025-10-06T10:17:01.039194Z"
    }
   },
   "source": [
    "import torch\n",
    "print(torch.__version__)"
   ],
   "outputs": [
    {
     "name": "stdout",
     "output_type": "stream",
     "text": [
      "2.7.1a0\n"
     ]
    }
   ],
   "execution_count": 15
  },
  {
   "metadata": {
    "ExecuteTime": {
     "end_time": "2025-10-06T10:17:01.395393Z",
     "start_time": "2025-10-06T10:17:01.361758Z"
    }
   },
   "cell_type": "code",
   "source": [
    "#Scalar:Single Value\n",
    "Scalar=torch.tensor(2)\n",
    "print(\"The Scalar Value is \",Scalar)\n",
    "print(\"The Dimensional of the Scalar is \",Scalar.ndim)\n",
    "print(\"The Shape of the Scalar is \",Scalar.shape)\n",
    "print(\"The Printing the scalar value is \",Scalar.item())\n",
    "#Vector: It is Mathematical and Physical entity that possesses (which have or own )both magnitube(size or length) and Direction\n",
    "Vector=torch.tensor([1,2,3,4])\n",
    "print(\"The Vector is \",Vector)\n",
    "print(\"The Shape of the Vector is\" ,Vector.shape)\n",
    "print(\"The Dimensional fo the Vector is \",Vector.ndim)\n",
    "print(\"The Size of the Vector is \",Vector.size)\n",
    "#Matrix:The Rectangular Arrangement of the elements is Called Matrix.\n",
    "Matrix=torch.tensor([[1,2,3],\n",
    "                     [4,5,6],\n",
    "                     [7,8,9]])\n",
    "print(\"The Matrix is \",Matrix)\n",
    "print(\"The Shape of the Matrix is \",Matrix.shape)\n",
    "print(\"The Dimensional of the Matrix is \",Matrix.ndim)\n",
    "#Tensor:Tensor can be Defined as combining the several matrixes or Multidimensional array is Called Tensor\n",
    "Tensor=torch.tensor([[[1,2],\n",
    "                      [3,4]],\n",
    "                      [[5,6],\n",
    "                       [7,8]],\n",
    "                      [[8,9],\n",
    "                       [10,11]]])\n",
    "print(\"The Tensor is \",Tensor)\n",
    "print(\"The Shape of the Tensor is \",Tensor.shape)\n",
    "print(\"The Dimensional of the Tensor is \",Tensor.ndim)\n",
    "print(\"The length of the Tensor is \",len(Tensor))"
   ],
   "id": "e46a6f7aed2bef7d",
   "outputs": [
    {
     "name": "stdout",
     "output_type": "stream",
     "text": [
      "The Scalar Value is  tensor(2)\n",
      "The Dimensional of the Scalar is  0\n",
      "The Shape of the Scalar is  torch.Size([])\n",
      "The Printing the scalar value is  2\n",
      "The Vector is  tensor([1, 2, 3, 4])\n",
      "The Shape of the Vector is torch.Size([4])\n",
      "The Dimensional fo the Vector is  1\n",
      "The Size of the Vector is  <built-in method size of Tensor object at 0x7f1dbd95e490>\n",
      "The Matrix is  tensor([[1, 2, 3],\n",
      "        [4, 5, 6],\n",
      "        [7, 8, 9]])\n",
      "The Shape of the Matrix is  torch.Size([3, 3])\n",
      "The Dimensional of the Matrix is  2\n",
      "The Tensor is  tensor([[[ 1,  2],\n",
      "         [ 3,  4]],\n",
      "\n",
      "        [[ 5,  6],\n",
      "         [ 7,  8]],\n",
      "\n",
      "        [[ 8,  9],\n",
      "         [10, 11]]])\n",
      "The Shape of the Tensor is  torch.Size([3, 2, 2])\n",
      "The Dimensional of the Tensor is  3\n",
      "The length of the Tensor is  3\n"
     ]
    }
   ],
   "execution_count": 16
  },
  {
   "metadata": {
    "ExecuteTime": {
     "end_time": "2025-10-06T10:17:01.775517Z",
     "start_time": "2025-10-06T10:17:01.760468Z"
    }
   },
   "cell_type": "code",
   "source": [
    "#Creating the Random Tensor\n",
    "random_tensor=torch.rand(size=(3,4),dtype=torch.float64)\n",
    "print(\"The Random Tensor is \",random_tensor)\n",
    "print(\"The Data type of the Tensor is \",random_tensor.dtype)\n"
   ],
   "id": "448066b3c21967b7",
   "outputs": [
    {
     "name": "stdout",
     "output_type": "stream",
     "text": [
      "The Random Tensor is  tensor([[0.3837, 0.6174, 0.0654, 0.3511],\n",
      "        [0.1511, 0.8440, 0.1371, 0.3124],\n",
      "        [0.0659, 0.6920, 0.9667, 0.1537]], dtype=torch.float64)\n",
      "The Data type of the Tensor is  torch.float64\n"
     ]
    }
   ],
   "execution_count": 17
  },
  {
   "metadata": {
    "ExecuteTime": {
     "end_time": "2025-10-06T10:17:02.192546Z",
     "start_time": "2025-10-06T10:17:02.165170Z"
    }
   },
   "cell_type": "code",
   "source": [
    "#Creating the Zeros Tensor\n",
    "Zeros=torch.zeros(size=(3,4))\n",
    "print(Zeros,Zeros.dtype,Zeros.ndim,Zeros.shape)\n",
    "#Creating the ones Tensor\n",
    "Ones=torch.ones(size=(4,3,4))\n",
    "print(Ones)\n",
    "print(\"The Shape of the Tensor is \",Ones.shape)\n",
    "print(\"The Dimensional fo the Array\",Ones.ndim)"
   ],
   "id": "8e9f2f38bf0bd95c",
   "outputs": [
    {
     "name": "stdout",
     "output_type": "stream",
     "text": [
      "tensor([[0., 0., 0., 0.],\n",
      "        [0., 0., 0., 0.],\n",
      "        [0., 0., 0., 0.]]) torch.float32 2 torch.Size([3, 4])\n",
      "tensor([[[1., 1., 1., 1.],\n",
      "         [1., 1., 1., 1.],\n",
      "         [1., 1., 1., 1.]],\n",
      "\n",
      "        [[1., 1., 1., 1.],\n",
      "         [1., 1., 1., 1.],\n",
      "         [1., 1., 1., 1.]],\n",
      "\n",
      "        [[1., 1., 1., 1.],\n",
      "         [1., 1., 1., 1.],\n",
      "         [1., 1., 1., 1.]],\n",
      "\n",
      "        [[1., 1., 1., 1.],\n",
      "         [1., 1., 1., 1.],\n",
      "         [1., 1., 1., 1.]]])\n",
      "The Shape of the Tensor is  torch.Size([4, 3, 4])\n",
      "The Dimensional fo the Array 3\n"
     ]
    }
   ],
   "execution_count": 18
  },
  {
   "metadata": {
    "ExecuteTime": {
     "end_time": "2025-10-06T10:17:02.602356Z",
     "start_time": "2025-10-06T10:17:02.585304Z"
    }
   },
   "cell_type": "code",
   "source": [
    "Zeros_to_ten_deprecatedd=torch.arange(0,10)\n",
    "print(Zeros_to_ten_deprecatedd)\n",
    "#Creating Tensor of the Zeros And The input should be Tensor only\n",
    "ten_Zeros=torch.zeros_like(input=Zeros_to_ten_deprecatedd)\n",
    "print(ten_Zeros)"
   ],
   "id": "69cafd598e4300e9",
   "outputs": [
    {
     "name": "stdout",
     "output_type": "stream",
     "text": [
      "tensor([0, 1, 2, 3, 4, 5, 6, 7, 8, 9])\n",
      "tensor([0, 0, 0, 0, 0, 0, 0, 0, 0, 0])\n"
     ]
    }
   ],
   "execution_count": 19
  },
  {
   "metadata": {},
   "cell_type": "markdown",
   "source": "Retriving the Information from Tensor",
   "id": "48c19ad24aee2ecc"
  },
  {
   "metadata": {
    "ExecuteTime": {
     "end_time": "2025-10-06T10:17:02.960059Z",
     "start_time": "2025-10-06T10:17:02.939781Z"
    }
   },
   "cell_type": "code",
   "source": [
    "#Note:Default Datatype of the Tensor is float32\n",
    "float_32_Tensor=torch.tensor([3.0,6.0,9.0],\n",
    "                             dtype=None,\n",
    "                             device=None,\n",
    "                             requires_grad=False)\n",
    "print(\"The Tensor type float is\",float_32_Tensor)\n",
    "print(\"The Datatype of Tensor is \",float_32_Tensor.dtype)\n",
    "print(\"The shape of the Tensor is \",float_32_Tensor.shape)\n",
    "print(\"The Device which we used to run the torch is \",float_32_Tensor.device)"
   ],
   "id": "248fb01f1d577630",
   "outputs": [
    {
     "name": "stdout",
     "output_type": "stream",
     "text": [
      "The Tensor type float is tensor([3., 6., 9.])\n",
      "The Datatype of Tensor is  torch.float32\n",
      "The shape of the Tensor is  torch.Size([3])\n",
      "The Device which we used to run the torch is  cpu\n"
     ]
    }
   ],
   "execution_count": 20
  },
  {
   "metadata": {},
   "cell_type": "markdown",
   "source": "Changing the Datatype",
   "id": "bee93998e18ae186"
  },
  {
   "metadata": {
    "ExecuteTime": {
     "end_time": "2025-10-06T10:17:03.472128Z",
     "start_time": "2025-10-06T10:17:03.454267Z"
    }
   },
   "cell_type": "code",
   "source": [
    "#we can change the datatype of the Tensor\n",
    "Tensor1=torch.tensor([1,2,3,4])\n",
    "Tensor2=torch.tensor([1,2,3,4],dtype=torch.float16)\n",
    "Tensor3=torch.tensor([1,2,3,4],dtype=torch.int64)\n",
    "Tensor4=torch.tensor([1,2,3,4],dtype=torch.int16)\n",
    "print(Tensor.dtype)\n",
    "print(Tensor2.dtype)\n",
    "print(Tensor3.dtype)\n",
    "print(Tensor4.dtype)"
   ],
   "id": "407194e629604fbc",
   "outputs": [
    {
     "name": "stdout",
     "output_type": "stream",
     "text": [
      "torch.int64\n",
      "torch.float16\n",
      "torch.int64\n",
      "torch.int16\n"
     ]
    }
   ],
   "execution_count": 21
  },
  {
   "metadata": {
    "ExecuteTime": {
     "end_time": "2025-10-06T10:17:03.739890Z",
     "start_time": "2025-10-06T10:17:03.722255Z"
    }
   },
   "cell_type": "code",
   "source": [
    "some_Tensor=torch.rand(size=(4,5))\n",
    "print(some_Tensor)\n",
    "print(f'shape of the Tensor is {some_Tensor.shape}')\n",
    "print(f'Datatype of the Tensor is {some_Tensor.dtype}')\n",
    "print(f'The Device Tensor is Stored on {some_Tensor.device}')\n"
   ],
   "id": "2a207842a1ed41b4",
   "outputs": [
    {
     "name": "stdout",
     "output_type": "stream",
     "text": [
      "tensor([[0.5910, 0.1516, 0.0334, 0.7750, 0.0386],\n",
      "        [0.5134, 0.2627, 0.3018, 0.7710, 0.0287],\n",
      "        [0.1010, 0.0125, 0.5309, 0.0894, 0.9579],\n",
      "        [0.0836, 0.3357, 0.7719, 0.9144, 0.9680]])\n",
      "shape of the Tensor is torch.Size([4, 5])\n",
      "Datatype of the Tensor is torch.float32\n",
      "The Device Tensor is Stored on cpu\n"
     ]
    }
   ],
   "execution_count": 22
  },
  {
   "metadata": {},
   "cell_type": "markdown",
   "source": "Aggregation Operations",
   "id": "bf612f63f3f39e62"
  },
  {
   "metadata": {
    "ExecuteTime": {
     "end_time": "2025-10-06T10:17:04.085898Z",
     "start_time": "2025-10-06T10:17:04.067780Z"
    }
   },
   "cell_type": "code",
   "source": [
    "#Finding the Min,Max,Sum,and Mean of the Tensor\n",
    "#Creating the Tensor using arange\n",
    "x=torch.arange(10,101,10)\n",
    "print(x)\n",
    "#Now Aggregation Functions are\n",
    "print(f'The minimum element is {torch.min(x)}')\n",
    "# print(f'The minimum element is {x.mean()}')\n",
    "print(f'The Maximum Element is {torch.max(x)}')\n",
    "# print(f'The Maximum Element is {x.max()}')\n",
    "print(f'The Sum of the Tensor Element is {torch.sum(x)}')\n",
    "print(f'The mean of the Tensor Element  is {x.type(torch.float32).mean()}')"
   ],
   "id": "6597de5df87497c3",
   "outputs": [
    {
     "name": "stdout",
     "output_type": "stream",
     "text": [
      "tensor([ 10,  20,  30,  40,  50,  60,  70,  80,  90, 100])\n",
      "The minimum element is 10\n",
      "The Maximum Element is 100\n",
      "The Sum of the Tensor Element is 550\n",
      "The mean of the Tensor Element  is 55.0\n"
     ]
    }
   ],
   "execution_count": 23
  },
  {
   "metadata": {
    "ExecuteTime": {
     "end_time": "2025-10-06T10:17:04.307190Z",
     "start_time": "2025-10-06T10:17:04.287507Z"
    }
   },
   "cell_type": "code",
   "source": [
    "x=torch.arange(10,100,10)\n",
    "print(\"The Torch is \",x)\n",
    "#Aggregation functions\n",
    "print(\"The minimum Elements of the Tensor is \",torch.min(x))\n",
    "print(\"The maximum Element is of the  Tensor is \",torch.max(x))\n",
    "print(\"The Sum of the Tensor Elements is \",torch.sum(x))\n",
    "print(\"The mean of the Tensor Elements is \",x.type(torch.float32).mean())"
   ],
   "id": "3f4a454e421429b3",
   "outputs": [
    {
     "name": "stdout",
     "output_type": "stream",
     "text": [
      "The Torch is  tensor([10, 20, 30, 40, 50, 60, 70, 80, 90])\n",
      "The minimum Elements of the Tensor is  tensor(10)\n",
      "The maximum Element is of the  Tensor is  tensor(90)\n",
      "The Sum of the Tensor Elements is  tensor(450)\n",
      "The mean of the Tensor Elements is  tensor(50.)\n"
     ]
    }
   ],
   "execution_count": 24
  },
  {
   "metadata": {},
   "cell_type": "markdown",
   "source": "Positional Min/Max",
   "id": "973db848b7b54cff"
  },
  {
   "metadata": {
    "ExecuteTime": {
     "end_time": "2025-10-06T10:17:04.613738Z",
     "start_time": "2025-10-06T10:17:04.597121Z"
    }
   },
   "cell_type": "code",
   "source": [
    "Tensor=torch.arange(1,100,15)\n",
    "print(f'Tenosr is :{Tensor}')\n",
    "#Return the Index of Max and Min\n",
    "print(f\"Index where Max value Occure {Tensor.argmax()}\")\n",
    "print(f\"Index where Min Value Occure {Tensor.argmin()}\")"
   ],
   "id": "c65bfa0c31e9e2a7",
   "outputs": [
    {
     "name": "stdout",
     "output_type": "stream",
     "text": [
      "Tenosr is :tensor([ 1, 16, 31, 46, 61, 76, 91])\n",
      "Index where Max value Occure 6\n",
      "Index where Min Value Occure 0\n"
     ]
    }
   ],
   "execution_count": 25
  },
  {
   "metadata": {
    "ExecuteTime": {
     "end_time": "2025-10-06T10:17:04.812357Z",
     "start_time": "2025-10-06T10:17:04.794263Z"
    }
   },
   "cell_type": "code",
   "source": [
    "#Difference between the torch.rand(),torch.randn()\n",
    "#NOTE:These Two Function will Drawn Random Numbers\n",
    "#torch.rand():This function will drawn the Random Values from uniform Distribution over the Interval [0,1).This is Means That Every Value between 0(inclusive) and 1(Exclusive).\n",
    "import torch\n",
    "# Tensor_Rand=torch.rand(2,3)\n",
    "Tensor_Rand=torch.rand(size=(2,3))\n",
    "print(Tensor_Rand)"
   ],
   "id": "309b2440657b536c",
   "outputs": [
    {
     "name": "stdout",
     "output_type": "stream",
     "text": [
      "tensor([[0.8909, 0.4271, 0.8736],\n",
      "        [0.2470, 0.2503, 0.6992]])\n"
     ]
    }
   ],
   "execution_count": 26
  },
  {
   "metadata": {
    "ExecuteTime": {
     "end_time": "2025-10-06T10:17:05.013975Z",
     "start_time": "2025-10-06T10:17:04.989687Z"
    }
   },
   "cell_type": "code",
   "source": [
    "#torch.randn():drawn the Random Values using Normal Distribution.Also Called Gaussian Distribution.\n",
    "#Means :Most Numbers are close to Zero And Some Numbers are bit -ve and bit +ve\n",
    "#some time Very Large or Very small Numbers are possible but rare\n",
    "import torch\n",
    "X=torch.randn(10)\n",
    "y=torch.randn(size=(2,3))\n",
    "print(X)\n",
    "print(y)"
   ],
   "id": "114543b5b79d2a83",
   "outputs": [
    {
     "name": "stdout",
     "output_type": "stream",
     "text": [
      "tensor([ 1.8943,  0.5670, -0.0172, -0.0183,  1.2797,  0.0761,  1.0298, -0.7212,\n",
      "         1.1217,  0.5850])\n",
      "tensor([[ 0.3302, -0.7267,  1.0356],\n",
      "        [-0.8337, -1.4996,  0.1747]])\n"
     ]
    }
   ],
   "execution_count": 27
  },
  {
   "metadata": {
    "ExecuteTime": {
     "end_time": "2025-10-06T10:17:05.196163Z",
     "start_time": "2025-10-06T10:17:05.188834Z"
    }
   },
   "cell_type": "code",
   "source": "",
   "id": "7b287e218e0145be",
   "outputs": [],
   "execution_count": null
  },
  {
   "metadata": {
    "ExecuteTime": {
     "end_time": "2025-10-06T10:17:05.392118Z",
     "start_time": "2025-10-06T10:17:05.317281Z"
    }
   },
   "cell_type": "code",
   "source": [
    "import torch\n",
    "\n",
    "print(torch.manual_seed(42))\n",
    "print(torch.rand(42))   # First shuffle\n",
    "print(torch.rand())   # Second shuffle\n",
    "\n",
    "torch.manual_seed(42)  # Reset seed (start from same point again)\n",
    "print(torch.rand(3))   # Same as first shuffle\n"
   ],
   "id": "a6928e2229569d81",
   "outputs": [
    {
     "name": "stdout",
     "output_type": "stream",
     "text": [
      "<torch._C.Generator object at 0x7f1e183b34b0>\n",
      "tensor([0.8823, 0.9150, 0.3829, 0.9593, 0.3904, 0.6009, 0.2566, 0.7936, 0.9408,\n",
      "        0.1332, 0.9346, 0.5936, 0.8694, 0.5677, 0.7411, 0.4294, 0.8854, 0.5739,\n",
      "        0.2666, 0.6274, 0.2696, 0.4414, 0.2969, 0.8317, 0.1053, 0.2695, 0.3588,\n",
      "        0.1994, 0.5472, 0.0062, 0.9516, 0.0753, 0.8860, 0.5832, 0.3376, 0.8090,\n",
      "        0.5779, 0.9040, 0.5547, 0.3423, 0.6343, 0.3644])\n"
     ]
    },
    {
     "ename": "TypeError",
     "evalue": "rand() received an invalid combination of arguments - got (), but expected one of:\n * (tuple of ints size, *, torch.Generator generator, tuple of names names, torch.dtype dtype = None, torch.layout layout = None, torch.device device = None, bool pin_memory = False, bool requires_grad = False)\n * (tuple of ints size, *, torch.Generator generator, Tensor out = None, torch.dtype dtype = None, torch.layout layout = None, torch.device device = None, bool pin_memory = False, bool requires_grad = False)\n * (tuple of ints size, *, Tensor out = None, torch.dtype dtype = None, torch.layout layout = None, torch.device device = None, bool pin_memory = False, bool requires_grad = False)\n * (tuple of ints size, *, tuple of names names, torch.dtype dtype = None, torch.layout layout = None, torch.device device = None, bool pin_memory = False, bool requires_grad = False)\n",
     "output_type": "error",
     "traceback": [
      "\u001B[0;31m---------------------------------------------------------------------------\u001B[0m",
      "\u001B[0;31mTypeError\u001B[0m                                 Traceback (most recent call last)",
      "Cell \u001B[0;32mIn[28], line 5\u001B[0m\n\u001B[1;32m      3\u001B[0m \u001B[38;5;28mprint\u001B[39m(torch\u001B[38;5;241m.\u001B[39mmanual_seed(\u001B[38;5;241m42\u001B[39m))\n\u001B[1;32m      4\u001B[0m \u001B[38;5;28mprint\u001B[39m(torch\u001B[38;5;241m.\u001B[39mrand(\u001B[38;5;241m42\u001B[39m))   \u001B[38;5;66;03m# First shuffle\u001B[39;00m\n\u001B[0;32m----> 5\u001B[0m \u001B[38;5;28mprint\u001B[39m(\u001B[43mtorch\u001B[49m\u001B[38;5;241;43m.\u001B[39;49m\u001B[43mrand\u001B[49m\u001B[43m(\u001B[49m\u001B[43m)\u001B[49m)   \u001B[38;5;66;03m# Second shuffle\u001B[39;00m\n\u001B[1;32m      7\u001B[0m torch\u001B[38;5;241m.\u001B[39mmanual_seed(\u001B[38;5;241m42\u001B[39m)  \u001B[38;5;66;03m# Reset seed (start from same point again)\u001B[39;00m\n\u001B[1;32m      8\u001B[0m \u001B[38;5;28mprint\u001B[39m(torch\u001B[38;5;241m.\u001B[39mrand(\u001B[38;5;241m3\u001B[39m))   \u001B[38;5;66;03m# Same as first shuffle\u001B[39;00m\n",
      "\u001B[0;31mTypeError\u001B[0m: rand() received an invalid combination of arguments - got (), but expected one of:\n * (tuple of ints size, *, torch.Generator generator, tuple of names names, torch.dtype dtype = None, torch.layout layout = None, torch.device device = None, bool pin_memory = False, bool requires_grad = False)\n * (tuple of ints size, *, torch.Generator generator, Tensor out = None, torch.dtype dtype = None, torch.layout layout = None, torch.device device = None, bool pin_memory = False, bool requires_grad = False)\n * (tuple of ints size, *, Tensor out = None, torch.dtype dtype = None, torch.layout layout = None, torch.device device = None, bool pin_memory = False, bool requires_grad = False)\n * (tuple of ints size, *, tuple of names names, torch.dtype dtype = None, torch.layout layout = None, torch.device device = None, bool pin_memory = False, bool requires_grad = False)\n"
     ]
    }
   ],
   "execution_count": 28
  }
 ],
 "metadata": {
  "kernelspec": {
   "display_name": "Python 3",
   "language": "python",
   "name": "python3"
  },
  "language_info": {
   "codemirror_mode": {
    "name": "ipython",
    "version": 2
   },
   "file_extension": ".py",
   "mimetype": "text/x-python",
   "name": "python",
   "nbconvert_exporter": "python",
   "pygments_lexer": "ipython2",
   "version": "2.7.6"
  }
 },
 "nbformat": 4,
 "nbformat_minor": 5
}
