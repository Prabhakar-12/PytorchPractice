{
 "cells": [
  {
   "cell_type": "code",
   "id": "initial_id",
   "metadata": {
    "collapsed": true,
    "ExecuteTime": {
     "end_time": "2025-09-28T06:09:34.568248Z",
     "start_time": "2025-09-28T06:09:29.545208Z"
    }
   },
   "source": [
    "import torch\n",
    "print(torch.__version__)"
   ],
   "outputs": [
    {
     "name": "stdout",
     "output_type": "stream",
     "text": [
      "2.8.0+cpu\n"
     ]
    }
   ],
   "execution_count": 1
  },
  {
   "metadata": {
    "ExecuteTime": {
     "end_time": "2025-09-28T06:09:34.726645Z",
     "start_time": "2025-09-28T06:09:34.681937Z"
    }
   },
   "cell_type": "code",
   "source": [
    "#Scalar\n",
    "Scalar=torch.tensor(2)\n",
    "print(\"The Scalar Value is \",Scalar)\n",
    "print(\"The Dimensional of the Scalar is \",Scalar.ndim)\n",
    "print(\"The Shape of the Scalar is \",Scalar.shape)\n",
    "print(\"The Printing the scalar value is \",Scalar.item())\n",
    "#Vector: It is Mathematical and Physical entity that possesses (which have or own )both magnitube(size or length) and Direction\n",
    "Vector=torch.tensor([1,2,3,4])\n",
    "print(\"The Vector is \",Vector)\n",
    "print(\"The Shape of the Vector is\" ,Vector.shape)\n",
    "print(\"The Dimensional fo the Vector is \",Vector.shape)\n",
    "print(\"The Size of the Vector is \",Vector.size)\n",
    "#Matrix:The Rectangular Arrnagement of the elements is Called Matrix.\n",
    "Matrix=torch.tensor([[1,2,3],\n",
    "                     [4,5,6],\n",
    "                     [7,8,9]])\n",
    "print(\"The Matrix is \",Matrix)\n",
    "print(\"The Shape of the Matrix is \",Matrix.shape)\n",
    "print(\"The Dimensional of the Matrix is \",Matrix.ndim)\n",
    "#Tensor:Tensor can be Defined as combining the several matrixes or Multidimensional array is Called Tensor\n",
    "Tensor=torch.tensor([[[1,2],\n",
    "                      [3,4]],\n",
    "                      [[5,6],\n",
    "                       [7,8]],\n",
    "                      [[8,9],\n",
    "                       [10,11]]])\n",
    "print(\"The Tensor is \",Tensor)\n",
    "print(\"The Shape of the Tensor is \",Tensor.shape)\n",
    "print(\"The Dimensional of the Tensor is \",Tensor.ndim)\n",
    "print(\"The length of the Tensor is \",len(Tensor))"
   ],
   "id": "e46a6f7aed2bef7d",
   "outputs": [
    {
     "name": "stdout",
     "output_type": "stream",
     "text": [
      "The Scalar Value is  tensor(2)\n",
      "The Dimensional of the Scalar is  0\n",
      "The Shape of the Scalar is  torch.Size([])\n",
      "The Printing the scalar value is  2\n",
      "The Vector is  tensor([1, 2, 3, 4])\n",
      "The Shape of the Vector is torch.Size([4])\n",
      "The Dimensional fo the Vector is  torch.Size([4])\n",
      "The Size of the Vector is  <built-in method size of Tensor object at 0x7f949abd83c0>\n",
      "The Matrix is  tensor([[1, 2, 3],\n",
      "        [4, 5, 6],\n",
      "        [7, 8, 9]])\n",
      "The Shape of the Matrix is  torch.Size([3, 3])\n",
      "The Dimensional of the Matrix is  2\n",
      "The Tensor is  tensor([[[ 1,  2],\n",
      "         [ 3,  4]],\n",
      "\n",
      "        [[ 5,  6],\n",
      "         [ 7,  8]],\n",
      "\n",
      "        [[ 8,  9],\n",
      "         [10, 11]]])\n",
      "The Shape of the Tensor is  torch.Size([3, 2, 2])\n",
      "The Dimensional of the Tensor is  3\n",
      "The length of the Tensor is  3\n"
     ]
    }
   ],
   "execution_count": 2
  },
  {
   "metadata": {
    "ExecuteTime": {
     "end_time": "2025-09-28T06:09:34.885164Z",
     "start_time": "2025-09-28T06:09:34.837200Z"
    }
   },
   "cell_type": "code",
   "source": [
    "#Creating the Random Tensor\n",
    "random_tensor=torch.rand(size=(3,4),dtype=torch.float64)\n",
    "print(\"The Random Tensor is \",random_tensor)\n",
    "print(\"The Data type of the Tensor is \",random_tensor.dtype)\n"
   ],
   "id": "448066b3c21967b7",
   "outputs": [
    {
     "name": "stdout",
     "output_type": "stream",
     "text": [
      "The Random Tensor is  tensor([[0.6355, 0.7924, 0.0539, 0.5423],\n",
      "        [0.3895, 0.1968, 0.5473, 0.4868],\n",
      "        [0.7391, 0.0048, 0.2662, 0.7499]], dtype=torch.float64)\n",
      "The Data type of the Tensor is  torch.float64\n"
     ]
    }
   ],
   "execution_count": 3
  },
  {
   "metadata": {
    "ExecuteTime": {
     "end_time": "2025-09-28T06:09:34.973808Z",
     "start_time": "2025-09-28T06:09:34.951944Z"
    }
   },
   "cell_type": "code",
   "source": [
    "#Creating the Zeros Tensor\n",
    "Zeros=torch.zeros(size=(3,4))\n",
    "print(Zeros,Zeros.dtype,Zeros.ndim,Zeros.shape)\n",
    "#Creating the ones Tensor\n",
    "Ones=torch.ones(size=(4,3,4))\n",
    "print(Ones)\n",
    "print(\"The Shape of the Tensor is \",Ones.shape)\n",
    "print(\"The Dimensional fo the Array\",Ones.ndim)"
   ],
   "id": "8e9f2f38bf0bd95c",
   "outputs": [
    {
     "name": "stdout",
     "output_type": "stream",
     "text": [
      "tensor([[0., 0., 0., 0.],\n",
      "        [0., 0., 0., 0.],\n",
      "        [0., 0., 0., 0.]]) torch.float32 2 torch.Size([3, 4])\n",
      "tensor([[[1., 1., 1., 1.],\n",
      "         [1., 1., 1., 1.],\n",
      "         [1., 1., 1., 1.]],\n",
      "\n",
      "        [[1., 1., 1., 1.],\n",
      "         [1., 1., 1., 1.],\n",
      "         [1., 1., 1., 1.]],\n",
      "\n",
      "        [[1., 1., 1., 1.],\n",
      "         [1., 1., 1., 1.],\n",
      "         [1., 1., 1., 1.]],\n",
      "\n",
      "        [[1., 1., 1., 1.],\n",
      "         [1., 1., 1., 1.],\n",
      "         [1., 1., 1., 1.]]])\n",
      "The Shape of the Tensor is  torch.Size([4, 3, 4])\n",
      "The Dimensional fo the Array 3\n"
     ]
    }
   ],
   "execution_count": 4
  },
  {
   "metadata": {
    "ExecuteTime": {
     "end_time": "2025-09-28T06:09:35.052193Z",
     "start_time": "2025-09-28T06:09:35.037347Z"
    }
   },
   "cell_type": "code",
   "source": [
    "Zeros_to_ten_deprecatedd=torch.arange(0,10)\n",
    "print(Zeros_to_ten_deprecatedd)\n",
    "#Creating Tensor of the Zeros And The input should be Tensor only\n",
    "ten_Zeros=torch.zeros_like(input=Zeros_to_ten_deprecatedd)\n",
    "print(ten_Zeros)"
   ],
   "id": "69cafd598e4300e9",
   "outputs": [
    {
     "name": "stdout",
     "output_type": "stream",
     "text": [
      "tensor([0, 1, 2, 3, 4, 5, 6, 7, 8, 9])\n",
      "tensor([0, 0, 0, 0, 0, 0, 0, 0, 0, 0])\n"
     ]
    }
   ],
   "execution_count": 5
  },
  {
   "metadata": {
    "ExecuteTime": {
     "end_time": "2025-09-28T06:09:35.161193Z",
     "start_time": "2025-09-28T06:09:35.146528Z"
    }
   },
   "cell_type": "code",
   "source": [
    "#Note:Default Datatype of the Tensor is float32\n",
    "float_32_Tensor=torch.tensor([3.0,6.0,9.0],\n",
    "                             dtype=None,\n",
    "                             device=None,\n",
    "                             requires_grad=False)\n",
    "print(\"The Tensor type float is\",float_32_Tensor)\n",
    "print(\"The Datatype of Tensor is \",float_32_Tensor.dtype)\n",
    "print(\"The shape of the Tensor is \",float_32_Tensor.shape)\n",
    "print(\"The Device which we used to run the torch is \",float_32_Tensor.device)"
   ],
   "id": "248fb01f1d577630",
   "outputs": [
    {
     "name": "stdout",
     "output_type": "stream",
     "text": [
      "The Tensor type float is tensor([3., 6., 9.])\n",
      "The Datatype of Tensor is  torch.float32\n",
      "The shape of the Tensor is  torch.Size([3])\n",
      "The Device which we used to run the torch is  cpu\n"
     ]
    }
   ],
   "execution_count": 6
  },
  {
   "metadata": {
    "ExecuteTime": {
     "end_time": "2025-09-28T06:09:35.273870Z",
     "start_time": "2025-09-28T06:09:35.250188Z"
    }
   },
   "cell_type": "code",
   "source": [
    "#we can change the datatype of the Tensor\n",
    "Tensor1=torch.tensor([1,2,3,4])\n",
    "Tensor2=torch.tensor([1,2,3,4],dtype=torch.float16)\n",
    "Tensor3=torch.tensor([1,2,3,4],dtype=torch.int64)\n",
    "Tensor4=torch.tensor([1,2,3,4],dtype=torch.int16)\n",
    "print(Tensor.dtype)\n",
    "print(Tensor2.dtype)\n",
    "print(Tensor3.dtype)\n",
    "print(Tensor4.dtype)"
   ],
   "id": "407194e629604fbc",
   "outputs": [
    {
     "name": "stdout",
     "output_type": "stream",
     "text": [
      "torch.int64\n",
      "torch.float16\n",
      "torch.int64\n",
      "torch.int16\n"
     ]
    }
   ],
   "execution_count": 7
  },
  {
   "metadata": {
    "ExecuteTime": {
     "end_time": "2025-09-28T06:09:35.393896Z",
     "start_time": "2025-09-28T06:09:35.377604Z"
    }
   },
   "cell_type": "code",
   "source": [
    "some_Tensor=torch.rand(size=(4,5))\n",
    "print(some_Tensor)\n",
    "print(f'shape of the Tensor is {some_Tensor.shape}')\n",
    "print(f'Datatype of the Tensor is {some_Tensor.dtype}')\n",
    "print(f'The Device Tensor is Stored on {some_Tensor.device}')\n"
   ],
   "id": "2a207842a1ed41b4",
   "outputs": [
    {
     "name": "stdout",
     "output_type": "stream",
     "text": [
      "tensor([[0.9640, 0.4408, 0.9914, 0.0013, 0.4813],\n",
      "        [0.8770, 0.7776, 0.9876, 0.0262, 0.7507],\n",
      "        [0.0705, 0.4518, 0.6487, 0.8446, 0.8270],\n",
      "        [0.6169, 0.1758, 0.2216, 0.6438, 0.2992]])\n",
      "shape of the Tensor is torch.Size([4, 5])\n",
      "Datatype of the Tensor is torch.float32\n",
      "The Device Tensor is Stored on cpu\n"
     ]
    }
   ],
   "execution_count": 8
  }
 ],
 "metadata": {
  "kernelspec": {
   "display_name": "Python 3",
   "language": "python",
   "name": "python3"
  },
  "language_info": {
   "codemirror_mode": {
    "name": "ipython",
    "version": 2
   },
   "file_extension": ".py",
   "mimetype": "text/x-python",
   "name": "python",
   "nbconvert_exporter": "python",
   "pygments_lexer": "ipython2",
   "version": "2.7.6"
  }
 },
 "nbformat": 4,
 "nbformat_minor": 5
}
