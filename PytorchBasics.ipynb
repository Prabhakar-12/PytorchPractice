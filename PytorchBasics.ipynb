{
 "cells": [
  {
   "cell_type": "code",
   "id": "initial_id",
   "metadata": {
    "collapsed": true
   },
   "source": [
    "import torch\n",
    "print(torch.__version__)"
   ],
   "outputs": [],
   "execution_count": null
  },
  {
   "metadata": {},
   "cell_type": "code",
   "source": [
    "#Scalar:Single Value\n",
    "Scalar=torch.tensor(2)\n",
    "print(\"The Scalar Value is \",Scalar)\n",
    "print(\"The Dimensional of the Scalar is \",Scalar.ndim)\n",
    "print(\"The Shape of the Scalar is \",Scalar.shape)\n",
    "print(\"The Printing the scalar value is \",Scalar.item())\n",
    "#Vector: It is Mathematical and Physical entity that possesses (which have or own )both magnitude(size or length) and Direction\n",
    "Vector=torch.tensor([1,2,3,4])\n",
    "print(\"The Vector is \",Vector)\n",
    "print(\"The Shape of the Vector is\" ,Vector.shape)\n",
    "print(\"The Dimensional fo the Vector is \",Vector.ndim)\n",
    "print(\"The Size of the Vector is \",Vector.size)\n",
    "#Matrix:The Rectangular Arrangement of the elements is Called Matrix.\n",
    "Matrix=torch.tensor([[1,2,3],\n",
    "                     [4,5,6],\n",
    "                     [7,8,9]])\n",
    "print(\"The Matrix is \",Matrix)\n",
    "print(\"The Shape of the Matrix is \",Matrix.shape)\n",
    "print(\"The Dimensional of the Matrix is \",Matrix.ndim)\n",
    "#Tensor:Tensor can be Defined as combining the several Matrix or Multidimensional array is Called Tensor\n",
    "Tensor=torch.tensor([[[1,2],\n",
    "                      [3,4]],\n",
    "                      [[5,6],\n",
    "                       [7,8]],\n",
    "                      [[8,9],\n",
    "                       [10,11]]])\n",
    "print(\"The Tensor is \",Tensor)\n",
    "print(\"The Shape of the Tensor is \",Tensor.shape)\n",
    "print(\"The Dimensional of the Tensor is \",Tensor.ndim)\n",
    "print(\"The length of the Tensor is \",len(Tensor))"
   ],
   "id": "e46a6f7aed2bef7d",
   "outputs": [],
   "execution_count": null
  },
  {
   "metadata": {},
   "cell_type": "code",
   "source": [
    "#Creating the Random Tensor\n",
    "random_tensor=torch.rand(size=(3,4),dtype=torch.float64)\n",
    "print(\"The Random Tensor is \",random_tensor)\n",
    "print(\"The Data type of the Tensor is \",random_tensor.dtype)\n"
   ],
   "id": "448066b3c21967b7",
   "outputs": [],
   "execution_count": null
  },
  {
   "metadata": {},
   "cell_type": "code",
   "source": [
    "#Creating the Zeros Tensor\n",
    "Zeros=torch.zeros(size=(3,4))\n",
    "print(Zeros,Zeros.dtype,Zeros.ndim,Zeros.shape)\n",
    "#Creating the ones Tensor\n",
    "Ones=torch.ones(size=(4,3,4))\n",
    "print(Ones)\n",
    "print(\"The Shape of the Tensor is \",Ones.shape)\n",
    "print(\"The Dimensional fo the Array\",Ones.ndim)"
   ],
   "id": "8e9f2f38bf0bd95c",
   "outputs": [],
   "execution_count": null
  },
  {
   "metadata": {},
   "cell_type": "code",
   "source": [
    "Zeros_to_ten_deprecated=torch.arange(0,10)\n",
    "print(Zeros_to_ten_deprecated)\n",
    "#Creating Tensor of the Zeros And The input should be Tensor only\n",
    "ten_Zeros=torch.zeros_like(input=Zeros_to_ten_deprecated)\n",
    "print(ten_Zeros)\n"
   ],
   "id": "69cafd598e4300e9",
   "outputs": [],
   "execution_count": null
  },
  {
   "metadata": {},
   "cell_type": "markdown",
   "source": "Retriving the Information from Tensor",
   "id": "48c19ad24aee2ecc"
  },
  {
   "metadata": {},
   "cell_type": "code",
   "source": [
    "#Note:Default Datatype of the Tensor is float32\n",
    "float_32_Tensor=torch.tensor([3.0,6.0,9.0],\n",
    "                             dtype=None,\n",
    "                             device=None,\n",
    "                             requires_grad=False)\n",
    "print(\"The Tensor type float is\",float_32_Tensor)\n",
    "print(\"The Datatype of Tensor is \",float_32_Tensor.dtype)\n",
    "print(\"The shape of the Tensor is \",float_32_Tensor.shape)\n",
    "print(\"The Device which we used to run the torch is \",float_32_Tensor.device)"
   ],
   "id": "248fb01f1d577630",
   "outputs": [],
   "execution_count": null
  },
  {
   "metadata": {},
   "cell_type": "markdown",
   "source": "Changing the Datatype",
   "id": "bee93998e18ae186"
  },
  {
   "metadata": {},
   "cell_type": "code",
   "source": [
    "#we can change the datatype of the Tensor\n",
    "Tensor1=torch.tensor([1,2,3,4])\n",
    "Tensor2=torch.tensor([1,2,3,4],dtype=torch.float16)\n",
    "Tensor3=torch.tensor([1,2,3,4],dtype=torch.int64)\n",
    "Tensor4=torch.tensor([1,2,3,4],dtype=torch.int16)\n",
    "print(Tensor.dtype)\n",
    "print(Tensor2.dtype)\n",
    "print(Tensor3.dtype)\n",
    "print(Tensor4.dtype)"
   ],
   "id": "407194e629604fbc",
   "outputs": [],
   "execution_count": null
  },
  {
   "metadata": {},
   "cell_type": "code",
   "source": [
    "some_Tensor=torch.rand(size=(4,5))\n",
    "print(some_Tensor)\n",
    "print(f'shape of the Tensor is {some_Tensor.shape}')\n",
    "print(f'Datatype of the Tensor is {some_Tensor.dtype}')\n",
    "print(f'The Device Tensor is Stored on {some_Tensor.device}')\n"
   ],
   "id": "2a207842a1ed41b4",
   "outputs": [],
   "execution_count": null
  },
  {
   "metadata": {},
   "cell_type": "markdown",
   "source": "Aggregation Operations",
   "id": "bf612f63f3f39e62"
  },
  {
   "metadata": {},
   "cell_type": "code",
   "source": [
    "#Finding the Min,Max,Sum,and Mean of the Tensor\n",
    "#Creating the Tensor using arange\n",
    "x=torch.arange(10,101,10)\n",
    "print(x)\n",
    "#Now Aggregation Functions are\n",
    "print(f'The minimum element is {torch.min(x)}')\n",
    "# print(f'The minimum element is {x.mean()}')\n",
    "print(f'The Maximum Element is {torch.max(x)}')\n",
    "# print(f'The Maximum Element is {x.max()}')\n",
    "print(f'The Sum of the Tensor Element is {torch.sum(x)}')\n",
    "print(f'The mean of the Tensor Element  is {x.type(torch.float32).mean()}')"
   ],
   "id": "6597de5df87497c3",
   "outputs": [],
   "execution_count": null
  },
  {
   "metadata": {},
   "cell_type": "code",
   "source": [
    "x=torch.arange(10,100,10)\n",
    "print(\"The Torch is \",x)\n",
    "#Aggregation functions\n",
    "print(\"The minimum Elements of the Tensor is \",torch.min(x))\n",
    "print(\"The maximum Element is of the  Tensor is \",torch.max(x))\n",
    "print(\"The Sum of the Tensor Elements is \",torch.sum(x))\n",
    "print(\"The mean of the Tensor Elements is \",x.type(torch.float32).mean())"
   ],
   "id": "3f4a454e421429b3",
   "outputs": [],
   "execution_count": null
  },
  {
   "metadata": {},
   "cell_type": "markdown",
   "source": "Positional Min/Max",
   "id": "973db848b7b54cff"
  },
  {
   "metadata": {},
   "cell_type": "code",
   "source": [
    "Tensor=torch.arange(1,100,15)\n",
    "print(f'Tenosr is :{Tensor}')\n",
    "#Return the Index of Max and Min\n",
    "print(f\"Index where Max value Occure {Tensor.argmax()}\")\n",
    "print(f\"Index where Min Value Occure {Tensor.argmin()}\")"
   ],
   "id": "c65bfa0c31e9e2a7",
   "outputs": [],
   "execution_count": null
  },
  {
   "metadata": {},
   "cell_type": "code",
   "source": [
    "#Difference between the torch.rand(),torch.randn()\n",
    "#NOTE:These Two Function will Drawn Random Numbers\n",
    "#torch.rand():This function will drawn the Random Values from uniform Distribution over the Interval [0,1).This is Means That Every Value between 0(inclusive) and 1(Exclusive).\n",
    "import torch\n",
    "# Tensor_Rand=torch.rand(2,3)\n",
    "Tensor_Rand=torch.rand(size=(2,3))\n",
    "print(Tensor_Rand)"
   ],
   "id": "309b2440657b536c",
   "outputs": [],
   "execution_count": null
  },
  {
   "metadata": {},
   "cell_type": "code",
   "source": [
    "#torch.randn():drawn the Random Values using Normal Distribution.Also Called Gaussian Distribution.\n",
    "#Means :Most Numbers are close to Zero And Some Numbers are bit -ve and bit +ve\n",
    "#some time Very Large or Very small Numbers are possible but rare\n",
    "import torch\n",
    "X=torch.randn(10)\n",
    "y=torch.randn(size=(2,3))\n",
    "print(X)\n",
    "print(y)"
   ],
   "id": "114543b5b79d2a83",
   "outputs": [],
   "execution_count": null
  },
  {
   "metadata": {},
   "cell_type": "code",
   "source": "",
   "id": "7b287e218e0145be",
   "outputs": [],
   "execution_count": null
  },
  {
   "metadata": {},
   "cell_type": "code",
   "source": [
    "import torch\n",
    "\n",
    "print(torch.manual_seed(42))\n",
    "print(torch.rand(42))   # First shuffle\n",
    "print(torch.rand())   # Second shuffle\n",
    "\n",
    "torch.manual_seed(42)  # Reset seed (start from same point again)\n",
    "print(torch.rand(3))   # Same as first shuffle\n"
   ],
   "id": "a6928e2229569d81",
   "outputs": [],
   "execution_count": null
  }
 ],
 "metadata": {
  "kernelspec": {
   "display_name": "Python 3",
   "language": "python",
   "name": "python3"
  },
  "language_info": {
   "codemirror_mode": {
    "name": "ipython",
    "version": 2
   },
   "file_extension": ".py",
   "mimetype": "text/x-python",
   "name": "python",
   "nbconvert_exporter": "python",
   "pygments_lexer": "ipython2",
   "version": "2.7.6"
  }
 },
 "nbformat": 4,
 "nbformat_minor": 5
}
