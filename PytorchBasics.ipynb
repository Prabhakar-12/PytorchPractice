{
 "cells": [
  {
   "cell_type": "code",
   "id": "initial_id",
   "metadata": {
    "collapsed": true,
    "ExecuteTime": {
     "end_time": "2025-10-02T07:43:17.776640Z",
     "start_time": "2025-10-02T07:43:17.763562Z"
    }
   },
   "source": [
    "import torch\n",
    "print(torch.__version__)\n",
    "print(torch.__version__)\n",
    "print(torch.__version__)"
   ],
   "outputs": [
    {
     "name": "stdout",
     "output_type": "stream",
     "text": [
      "2.7.1a0\n",
      "2.7.1a0\n",
      "2.7.1a0\n"
     ]
    }
   ],
   "execution_count": 3
  },
  {
   "metadata": {
    "ExecuteTime": {
     "end_time": "2025-09-29T16:21:22.599029Z",
     "start_time": "2025-09-29T16:21:22.565949Z"
    }
   },
   "cell_type": "code",
   "source": [
    "#Scalar:Single Value\n",
    "Scalar=torch.tensor(2)\n",
    "print(\"The Scalar Value is \",Scalar)\n",
    "print(\"The Dimensional of the Scalar is \",Scalar.ndim)\n",
    "print(\"The Shape of the Scalar is \",Scalar.shape)\n",
    "print(\"The Printing the scalar value is \",Scalar.item())\n",
    "#Vector: It is Mathematical and Physical entity that possesses (which have or own )both magnitube(size or length) and Direction\n",
    "Vector=torch.tensor([1,2,3,4])\n",
    "print(\"The Vector is \",Vector)\n",
    "print(\"The Shape of the Vector is\" ,Vector.shape)\n",
    "print(\"The Dimensional fo the Vector is \",Vector.ndim)\n",
    "print(\"The Size of the Vector is \",Vector.size)\n",
    "#Matrix:The Rectangular Arrangement of the elements is Called Matrix.\n",
    "Matrix=torch.tensor([[1,2,3],\n",
    "                     [4,5,6],\n",
    "                     [7,8,9]])\n",
    "print(\"The Matrix is \",Matrix)\n",
    "print(\"The Shape of the Matrix is \",Matrix.shape)\n",
    "print(\"The Dimensional of the Matrix is \",Matrix.ndim)\n",
    "#Tensor:Tensor can be Defined as combining the several matrixes or Multidimensional array is Called Tensor\n",
    "Tensor=torch.tensor([[[1,2],\n",
    "                      [3,4]],\n",
    "                      [[5,6],\n",
    "                       [7,8]],\n",
    "                      [[8,9],\n",
    "                       [10,11]]])\n",
    "print(\"The Tensor is \",Tensor)\n",
    "print(\"The Shape of the Tensor is \",Tensor.shape)\n",
    "print(\"The Dimensional of the Tensor is \",Tensor.ndim)\n",
    "print(\"The length of the Tensor is \",len(Tensor))"
   ],
   "id": "e46a6f7aed2bef7d",
   "outputs": [
    {
     "name": "stdout",
     "output_type": "stream",
     "text": [
      "The Scalar Value is  tensor(2)\n",
      "The Dimensional of the Scalar is  0\n",
      "The Shape of the Scalar is  torch.Size([])\n",
      "The Printing the scalar value is  2\n",
      "The Vector is  tensor([1, 2, 3, 4])\n",
      "The Shape of the Vector is torch.Size([4])\n",
      "The Dimensional fo the Vector is  1\n",
      "The Size of the Vector is  <built-in method size of Tensor object at 0x7fe88d04ada0>\n",
      "The Matrix is  tensor([[1, 2, 3],\n",
      "        [4, 5, 6],\n",
      "        [7, 8, 9]])\n",
      "The Shape of the Matrix is  torch.Size([3, 3])\n",
      "The Dimensional of the Matrix is  2\n",
      "The Tensor is  tensor([[[ 1,  2],\n",
      "         [ 3,  4]],\n",
      "\n",
      "        [[ 5,  6],\n",
      "         [ 7,  8]],\n",
      "\n",
      "        [[ 8,  9],\n",
      "         [10, 11]]])\n",
      "The Shape of the Tensor is  torch.Size([3, 2, 2])\n",
      "The Dimensional of the Tensor is  3\n",
      "The length of the Tensor is  3\n"
     ]
    }
   ],
   "execution_count": 3
  },
  {
   "metadata": {
    "ExecuteTime": {
     "end_time": "2025-09-28T13:22:35.855609Z",
     "start_time": "2025-09-28T13:22:35.828874Z"
    }
   },
   "cell_type": "code",
   "source": [
    "#Creating the Random Tensor\n",
    "random_tensor=torch.rand(size=(3,4),dtype=torch.float64)\n",
    "print(\"The Random Tensor is \",random_tensor)\n",
    "print(\"The Data type of the Tensor is \",random_tensor.dtype)\n"
   ],
   "id": "448066b3c21967b7",
   "outputs": [
    {
     "name": "stdout",
     "output_type": "stream",
     "text": [
      "The Random Tensor is  tensor([[0.7968, 0.2195, 0.5478, 0.8312],\n",
      "        [0.9090, 0.6185, 0.1507, 0.1722],\n",
      "        [0.8147, 0.3270, 0.7337, 0.8262]], dtype=torch.float64)\n",
      "The Data type of the Tensor is  torch.float64\n"
     ]
    }
   ],
   "execution_count": 3
  },
  {
   "metadata": {
    "ExecuteTime": {
     "end_time": "2025-09-28T13:22:36.411635Z",
     "start_time": "2025-09-28T13:22:36.388382Z"
    }
   },
   "cell_type": "code",
   "source": [
    "#Creating the Zeros Tensor\n",
    "Zeros=torch.zeros(size=(3,4))\n",
    "print(Zeros,Zeros.dtype,Zeros.ndim,Zeros.shape)\n",
    "#Creating the ones Tensor\n",
    "Ones=torch.ones(size=(4,3,4))\n",
    "print(Ones)\n",
    "print(\"The Shape of the Tensor is \",Ones.shape)\n",
    "print(\"The Dimensional fo the Array\",Ones.ndim)"
   ],
   "id": "8e9f2f38bf0bd95c",
   "outputs": [
    {
     "name": "stdout",
     "output_type": "stream",
     "text": [
      "tensor([[0., 0., 0., 0.],\n",
      "        [0., 0., 0., 0.],\n",
      "        [0., 0., 0., 0.]]) torch.float32 2 torch.Size([3, 4])\n",
      "tensor([[[1., 1., 1., 1.],\n",
      "         [1., 1., 1., 1.],\n",
      "         [1., 1., 1., 1.]],\n",
      "\n",
      "        [[1., 1., 1., 1.],\n",
      "         [1., 1., 1., 1.],\n",
      "         [1., 1., 1., 1.]],\n",
      "\n",
      "        [[1., 1., 1., 1.],\n",
      "         [1., 1., 1., 1.],\n",
      "         [1., 1., 1., 1.]],\n",
      "\n",
      "        [[1., 1., 1., 1.],\n",
      "         [1., 1., 1., 1.],\n",
      "         [1., 1., 1., 1.]]])\n",
      "The Shape of the Tensor is  torch.Size([4, 3, 4])\n",
      "The Dimensional fo the Array 3\n"
     ]
    }
   ],
   "execution_count": 4
  },
  {
   "metadata": {
    "ExecuteTime": {
     "end_time": "2025-09-28T13:22:36.720376Z",
     "start_time": "2025-09-28T13:22:36.702011Z"
    }
   },
   "cell_type": "code",
   "source": [
    "Zeros_to_ten_deprecatedd=torch.arange(0,10)\n",
    "print(Zeros_to_ten_deprecatedd)\n",
    "#Creating Tensor of the Zeros And The input should be Tensor only\n",
    "ten_Zeros=torch.zeros_like(input=Zeros_to_ten_deprecatedd)\n",
    "print(ten_Zeros)"
   ],
   "id": "69cafd598e4300e9",
   "outputs": [
    {
     "name": "stdout",
     "output_type": "stream",
     "text": [
      "tensor([0, 1, 2, 3, 4, 5, 6, 7, 8, 9])\n",
      "tensor([0, 0, 0, 0, 0, 0, 0, 0, 0, 0])\n"
     ]
    }
   ],
   "execution_count": 5
  },
  {
   "metadata": {},
   "cell_type": "markdown",
   "source": "Retriving the Information from Tensor",
   "id": "48c19ad24aee2ecc"
  },
  {
   "metadata": {
    "ExecuteTime": {
     "end_time": "2025-09-28T13:22:36.994184Z",
     "start_time": "2025-09-28T13:22:36.974606Z"
    }
   },
   "cell_type": "code",
   "source": [
    "#Note:Default Datatype of the Tensor is float32\n",
    "float_32_Tensor=torch.tensor([3.0,6.0,9.0],\n",
    "                             dtype=None,\n",
    "                             device=None,\n",
    "                             requires_grad=False)\n",
    "print(\"The Tensor type float is\",float_32_Tensor)\n",
    "print(\"The Datatype of Tensor is \",float_32_Tensor.dtype)\n",
    "print(\"The shape of the Tensor is \",float_32_Tensor.shape)\n",
    "print(\"The Device which we used to run the torch is \",float_32_Tensor.device)"
   ],
   "id": "248fb01f1d577630",
   "outputs": [
    {
     "name": "stdout",
     "output_type": "stream",
     "text": [
      "The Tensor type float is tensor([3., 6., 9.])\n",
      "The Datatype of Tensor is  torch.float32\n",
      "The shape of the Tensor is  torch.Size([3])\n",
      "The Device which we used to run the torch is  cpu\n"
     ]
    }
   ],
   "execution_count": 6
  },
  {
   "metadata": {},
   "cell_type": "markdown",
   "source": "Changing the Datatype",
   "id": "bee93998e18ae186"
  },
  {
   "metadata": {
    "ExecuteTime": {
     "end_time": "2025-09-28T13:22:37.267838Z",
     "start_time": "2025-09-28T13:22:37.247822Z"
    }
   },
   "cell_type": "code",
   "source": [
    "#we can change the datatype of the Tensor\n",
    "Tensor1=torch.tensor([1,2,3,4])\n",
    "Tensor2=torch.tensor([1,2,3,4],dtype=torch.float16)\n",
    "Tensor3=torch.tensor([1,2,3,4],dtype=torch.int64)\n",
    "Tensor4=torch.tensor([1,2,3,4],dtype=torch.int16)\n",
    "print(Tensor.dtype)\n",
    "print(Tensor2.dtype)\n",
    "print(Tensor3.dtype)\n",
    "print(Tensor4.dtype)"
   ],
   "id": "407194e629604fbc",
   "outputs": [
    {
     "name": "stdout",
     "output_type": "stream",
     "text": [
      "torch.int64\n",
      "torch.float16\n",
      "torch.int64\n",
      "torch.int16\n"
     ]
    }
   ],
   "execution_count": 7
  },
  {
   "metadata": {
    "ExecuteTime": {
     "end_time": "2025-09-28T13:22:37.487689Z",
     "start_time": "2025-09-28T13:22:37.466730Z"
    }
   },
   "cell_type": "code",
   "source": [
    "some_Tensor=torch.rand(size=(4,5))\n",
    "print(some_Tensor)\n",
    "print(f'shape of the Tensor is {some_Tensor.shape}')\n",
    "print(f'Datatype of the Tensor is {some_Tensor.dtype}')\n",
    "print(f'The Device Tensor is Stored on {some_Tensor.device}')\n"
   ],
   "id": "2a207842a1ed41b4",
   "outputs": [
    {
     "name": "stdout",
     "output_type": "stream",
     "text": [
      "tensor([[0.3421, 0.8567, 0.1065, 0.4724, 0.9756],\n",
      "        [0.9107, 0.9343, 0.0124, 0.1229, 0.1409],\n",
      "        [0.9186, 0.1074, 0.8957, 0.5371, 0.0899],\n",
      "        [0.3079, 0.5848, 0.4655, 0.3432, 0.6436]])\n",
      "shape of the Tensor is torch.Size([4, 5])\n",
      "Datatype of the Tensor is torch.float32\n",
      "The Device Tensor is Stored on cpu\n"
     ]
    }
   ],
   "execution_count": 8
  },
  {
   "metadata": {},
   "cell_type": "markdown",
   "source": "Aggregation Operations",
   "id": "bf612f63f3f39e62"
  },
  {
   "metadata": {
    "ExecuteTime": {
     "end_time": "2025-09-28T13:30:10.436407Z",
     "start_time": "2025-09-28T13:30:10.397294Z"
    }
   },
   "cell_type": "code",
   "source": [
    "#Finding the Min,Max,Sum,and Mean of the Tensor\n",
    "#Creating the Tensor using arange\n",
    "x=torch.arange(10,101,10)\n",
    "print(x)\n",
    "#Now Aggregation Functions are\n",
    "print(f'The minimum element is {torch.min(x)}')\n",
    "# print(f'The minimum element is {x.mean()}')\n",
    "print(f'The Maximum Element is {torch.max(x)}')\n",
    "# print(f'The Maximum Element is {x.max()}')\n",
    "print(f'The Sum of the Tensor Element is {torch.sum(x)}')\n",
    "print(f'The mean of the Tensor Element  is {x.type(torch.float32).mean()}')"
   ],
   "id": "6597de5df87497c3",
   "outputs": [
    {
     "name": "stdout",
     "output_type": "stream",
     "text": [
      "tensor([ 10,  20,  30,  40,  50,  60,  70,  80,  90, 100])\n",
      "The minimum element is 10\n",
      "The Maximum Element is 100\n",
      "The Sum of the Tensot Element is 550\n",
      "The mean of the Tensor Element  is 55.0\n"
     ]
    }
   ],
   "execution_count": 16
  },
  {
   "metadata": {
    "ExecuteTime": {
     "end_time": "2025-09-29T08:20:44.746019Z",
     "start_time": "2025-09-29T08:20:44.689726Z"
    }
   },
   "cell_type": "code",
   "source": [
    "x=torch.arange(10,100,10)\n",
    "print(\"The Torch is \",x)\n",
    "#Aggregation functions\n",
    "print(\"The minimum Elements of the Tensor is \",torch.min(x))\n",
    "print(\"The maximum Element is of the  Tensor is \",torch.max(x))\n",
    "print(\"The Sum of the Tensor Elements is \",torch.sum(x))\n",
    "print(\"The mean of the Tensor Elements is \",x.type(torch.float32).mean())"
   ],
   "id": "3f4a454e421429b3",
   "outputs": [
    {
     "name": "stdout",
     "output_type": "stream",
     "text": [
      "The Torch is  tensor([10, 20, 30, 40, 50, 60, 70, 80, 90])\n",
      "The minimum Elements of the Tensor is  tensor(10)\n",
      "The maximum Element is of the  Tensor is  tensor(90)\n",
      "The Sum of the Tensor Elements is  tensor(450)\n",
      "The mean of the Tensor Elements is  tensor(50.)\n"
     ]
    }
   ],
   "execution_count": 22
  },
  {
   "metadata": {},
   "cell_type": "markdown",
   "source": "Positional Min/Max",
   "id": "973db848b7b54cff"
  },
  {
   "metadata": {
    "ExecuteTime": {
     "end_time": "2025-09-28T13:34:46.831934Z",
     "start_time": "2025-09-28T13:34:46.810520Z"
    }
   },
   "cell_type": "code",
   "source": [
    "Tensor=torch.arange(1,100,15)\n",
    "print(f'Tenosr is :{Tensor}')\n",
    "#Return the Index of Max and Min\n",
    "print(f\"Index where Max value Occure {Tensor.argmax()}\")\n",
    "print(f\"Index where Min Value Occure {Tensor.argmin()}\")"
   ],
   "id": "c65bfa0c31e9e2a7",
   "outputs": [
    {
     "name": "stdout",
     "output_type": "stream",
     "text": [
      "Tenosr is :tensor([ 1, 16, 31, 46, 61, 76, 91])\n",
      "Index where Max value Occure 6\n",
      "Index where Min Value Occure 0\n"
     ]
    }
   ],
   "execution_count": 21
  }
 ],
 "metadata": {
  "kernelspec": {
   "display_name": "Python 3",
   "language": "python",
   "name": "python3"
  },
  "language_info": {
   "codemirror_mode": {
    "name": "ipython",
    "version": 2
   },
   "file_extension": ".py",
   "mimetype": "text/x-python",
   "name": "python",
   "nbconvert_exporter": "python",
   "pygments_lexer": "ipython2",
   "version": "2.7.6"
  }
 },
 "nbformat": 4,
 "nbformat_minor": 5
}
