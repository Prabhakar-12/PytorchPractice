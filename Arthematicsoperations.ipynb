{
 "cells": [
  {
   "cell_type": "code",
   "id": "initial_id",
   "metadata": {
    "collapsed": true
   },
   "source": [
    "import torch\n",
    "print(torch.__version__)"
   ],
   "outputs": [],
   "execution_count": null
  },
  {
   "metadata": {
    "ExecuteTime": {
     "end_time": "2025-09-28T04:17:18.477455Z",
     "start_time": "2025-09-28T04:17:18.447969Z"
    }
   },
   "cell_type": "code",
   "source": [
    "#Scalar\n",
    "Scalar=torch.tensor(2)\n",
    "print(\"The Scalar Value is \",Scalar)\n",
    "print(\"The Dimensional of the Scalar is \",Scalar.ndim)\n",
    "print(\"The Shape of the Scalar is \",Scalar.shape)\n",
    "print(\"The Printing the scalar value is \",Scalar.item())\n",
    "#Vector: It is Mathematical and Physical entity that possesses (which have or own )both magnitube(size or length) and Direction\n",
    "Vector=torch.tensor([1,2,3,4])\n",
    "print(\"The Vector is \",Vector)\n",
    "print(\"The Shape of the Vector is\" ,Vector.shape)\n",
    "print(\"The Dimensional fo the Vector is \",Vector.shape)\n",
    "print(\"The Size of the Vector is \",Vector.size)\n",
    "#Matrix:The Rectangular Arrnagement of the elements is Called Matrix.\n",
    "Matrix=torch.tensor([[1,2,3],\n",
    "                     [4,5,6],\n",
    "                     [7,8,9]])\n",
    "print(\"The Matrix is \",Matrix)\n",
    "print(\"The Shape of the Matrix is \",Matrix.shape)\n",
    "print(\"The Dimensional of the Matrix is \",Matrix.ndim)\n",
    "#Tensor:Tensor can be Defined as combining the several matrixes or Multidimensional array is Called Tensor\n",
    "Tensor=torch.tensor([[[1,2],\n",
    "                      [3,4]],\n",
    "                      [[5,6],\n",
    "                       [7,8]],\n",
    "                      [[8,9],\n",
    "                       [10,11]]])\n",
    "print(\"The Tensor is \",Tensor)\n",
    "print(\"The Shape of the Tensor is \",Tensor.shape)\n",
    "print(\"The Dimensional of the Tensor is \",Tensor.ndim)\n",
    "print(\"The length of the Tensor is \",len(Tensor))"
   ],
   "id": "19f1af99052e29c3",
   "outputs": [
    {
     "name": "stdout",
     "output_type": "stream",
     "text": [
      "The Scalar Value is  tensor(2)\n",
      "The Dimensional of the Scalar is  0\n",
      "The Shape of the Scalar is  torch.Size([])\n",
      "The Printing the scalar value is  2\n",
      "The Vector is  tensor([1, 2, 3, 4])\n",
      "The Shape of the Vector is torch.Size([4])\n",
      "The Dimensional fo the Vector is  torch.Size([4])\n",
      "The Size of the Vector is  <built-in method size of Tensor object at 0x7f1f7416f570>\n",
      "The Matrix is  tensor([[1, 2, 3],\n",
      "        [4, 5, 6],\n",
      "        [7, 8, 9]])\n",
      "The Shape of the Matrix is  torch.Size([3, 3])\n",
      "The Dimensional of the Matrix is  2\n",
      "The Tensor is  tensor([[[ 1,  2],\n",
      "         [ 3,  4]],\n",
      "\n",
      "        [[ 5,  6],\n",
      "         [ 7,  8]],\n",
      "\n",
      "        [[ 8,  9],\n",
      "         [10, 11]]])\n",
      "The Shape of the Tensor is  torch.Size([3, 2, 2])\n",
      "The Dimensional of the Tensor is  3\n",
      "The length of the Tensor is  3\n"
     ]
    }
   ],
   "execution_count": 19
  },
  {
   "metadata": {},
   "cell_type": "markdown",
   "source": "Random Tensors",
   "id": "fed00166e55abde5"
  },
  {
   "metadata": {
    "ExecuteTime": {
     "end_time": "2025-09-28T04:24:18.059098Z",
     "start_time": "2025-09-28T04:24:18.042425Z"
    }
   },
   "cell_type": "code",
   "source": [
    "#Creating the Random Tensor\n",
    "random_tensor=torch.rand(size=(3,4),dtype=torch.float64)\n",
    "print(\"The Random Tensor is \",random_tensor)\n",
    "print(\"The Data type of the Tensor is \",random_tensor.dtype)\n"
   ],
   "id": "fbd067c580301330",
   "outputs": [
    {
     "name": "stdout",
     "output_type": "stream",
     "text": [
      "The Random Tensor is  tensor([[0.5533, 0.2546, 0.7040, 0.6210],\n",
      "        [0.9728, 0.3638, 0.6339, 0.3858],\n",
      "        [0.3528, 0.1042, 0.7090, 0.2828]], dtype=torch.float64)\n",
      "The Data type of the Tensor is  torch.float64\n"
     ]
    }
   ],
   "execution_count": 31
  },
  {
   "metadata": {},
   "cell_type": "markdown",
   "source": "Zeros and Ones",
   "id": "a176e5415b78c830"
  },
  {
   "metadata": {
    "ExecuteTime": {
     "end_time": "2025-09-28T04:28:33.135502Z",
     "start_time": "2025-09-28T04:28:33.112875Z"
    }
   },
   "cell_type": "code",
   "source": [
    "#Creating the Zeros Tensor\n",
    "Zeros=torch.zeros(size=(3,4))\n",
    "print(Zeros,Zeros.dtype,Zeros.ndim,Zeros.shape)\n",
    "#Creating the ones Tensor\n",
    "Ones=torch.ones(size=(4,3,4))\n",
    "print(Ones)\n",
    "print(\"The Shape of the Tensor is \",Ones.shape)\n",
    "print(\"The Dimensional fo the Array\",Ones.ndim)"
   ],
   "id": "59e59762e9c91097",
   "outputs": [
    {
     "name": "stdout",
     "output_type": "stream",
     "text": [
      "tensor([[0., 0., 0., 0.],\n",
      "        [0., 0., 0., 0.],\n",
      "        [0., 0., 0., 0.]]) torch.float32 2 torch.Size([3, 4])\n",
      "tensor([[[1., 1., 1., 1.],\n",
      "         [1., 1., 1., 1.],\n",
      "         [1., 1., 1., 1.]],\n",
      "\n",
      "        [[1., 1., 1., 1.],\n",
      "         [1., 1., 1., 1.],\n",
      "         [1., 1., 1., 1.]],\n",
      "\n",
      "        [[1., 1., 1., 1.],\n",
      "         [1., 1., 1., 1.],\n",
      "         [1., 1., 1., 1.]],\n",
      "\n",
      "        [[1., 1., 1., 1.],\n",
      "         [1., 1., 1., 1.],\n",
      "         [1., 1., 1., 1.]]])\n",
      "The Shape of the Tensor is  torch.Size([4, 3, 4])\n",
      "The Dimensional fo the Array 3\n"
     ]
    }
   ],
   "execution_count": 41
  },
  {
   "metadata": {},
   "cell_type": "markdown",
   "source": " Creating the Range and Tensor",
   "id": "7eca7fcd1d260072"
  },
  {
   "metadata": {
    "ExecuteTime": {
     "end_time": "2025-09-28T04:34:28.723577Z",
     "start_time": "2025-09-28T04:34:28.705950Z"
    }
   },
   "cell_type": "code",
   "source": [
    "Zeros_to_ten_deprecatedd=torch.arange(0,10)\n",
    "print(Zeros_to_ten_deprecatedd)\n",
    "#Creating Tensor of the Zeros And The input should be Tensor only\n",
    "ten_Zeros=torch.zeros_like(input=Zeros_to_ten_deprecatedd)\n",
    "print(ten_Zeros)"
   ],
   "id": "de30986d7d89b3aa",
   "outputs": [
    {
     "name": "stdout",
     "output_type": "stream",
     "text": [
      "tensor([0, 1, 2, 3, 4, 5, 6, 7, 8, 9])\n",
      "tensor([0, 0, 0, 0, 0, 0, 0, 0, 0, 0])\n"
     ]
    }
   ],
   "execution_count": 51
  },
  {
   "metadata": {},
   "cell_type": "markdown",
   "source": "Tensor Datatypes",
   "id": "a6696636819ad352"
  }
 ],
 "metadata": {
  "kernelspec": {
   "display_name": "Python 3",
   "language": "python",
   "name": "python3"
  },
  "language_info": {
   "codemirror_mode": {
    "name": "ipython",
    "version": 2
   },
   "file_extension": ".py",
   "mimetype": "text/x-python",
   "name": "python",
   "nbconvert_exporter": "python",
   "pygments_lexer": "ipython2",
   "version": "2.7.6"
  }
 },
 "nbformat": 4,
 "nbformat_minor": 5
}
